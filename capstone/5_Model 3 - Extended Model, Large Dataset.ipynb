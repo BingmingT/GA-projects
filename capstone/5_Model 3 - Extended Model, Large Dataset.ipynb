{
 "cells": [
  {
   "cell_type": "markdown",
   "id": "07404d19",
   "metadata": {
    "id": "07404d19"
   },
   "source": [
    "# Model 3 - Extended Model, Large Dataset"
   ]
  },
  {
   "cell_type": "markdown",
   "id": "f7ca6561",
   "metadata": {},
   "source": [
    "## Model Overview\n",
    "\n",
    "Model 3 is the same of Model 2, an extension of the basic model, 1, with 3 LSTM layers, with dropouts and normalizations included.\n",
    "\n",
    "However, this model is trained on the entire data set, unlike model 2, which is only trained on the Wine Spectator wine notes."
   ]
  },
  {
   "cell_type": "markdown",
   "id": "eac33f6f",
   "metadata": {},
   "source": [
    "## Imports"
   ]
  },
  {
   "cell_type": "code",
   "execution_count": 1,
   "id": "60d505f5",
   "metadata": {
    "executionInfo": {
     "elapsed": 3094,
     "status": "ok",
     "timestamp": 1636387456137,
     "user": {
      "displayName": "Bingming Thum",
      "photoUrl": "https://lh3.googleusercontent.com/a-/AOh14Gg_XHW1RZTFaNH-ENRCEWnRFse_IArg2V0mHZAYEQ=s64",
      "userId": "12606220470318159759"
     },
     "user_tz": -480
    },
    "id": "60d505f5"
   },
   "outputs": [],
   "source": [
    "import tensorflow as tf\n",
    "import pandas as pd\n",
    "import numpy as np\n",
    "import matplotlib.pyplot as plt\n",
    "import re\n",
    "import time\n",
    "import io\n",
    "import os\n",
    "import unicodedata\n",
    "\n",
    "from tensorflow.keras.preprocessing.sequence import pad_sequences\n",
    "from tensorflow.keras.layers import Embedding, LSTM, Dense, Bidirectional, Dropout, LayerNormalization\n",
    "from tensorflow.keras.preprocessing.text import Tokenizer\n",
    "from tensorflow.keras.models import Sequential\n",
    "from tensorflow.keras.optimizers import Adam\n",
    "from tensorflow.keras.callbacks import ModelCheckpoint, EarlyStopping\n",
    "from tensorflow.keras.optimizers.schedules import PolynomialDecay\n",
    "from tensorflow.data.experimental import AUTOTUNE"
   ]
  },
  {
   "cell_type": "markdown",
   "id": "97944d91",
   "metadata": {},
   "source": [
    "## Loading Data"
   ]
  },
  {
   "cell_type": "code",
   "execution_count": 3,
   "id": "g3Op13MKLomi",
   "metadata": {
    "colab": {
     "base_uri": "https://localhost:8080/"
    },
    "executionInfo": {
     "elapsed": 51,
     "status": "ok",
     "timestamp": 1636387456140,
     "user": {
      "displayName": "Bingming Thum",
      "photoUrl": "https://lh3.googleusercontent.com/a-/AOh14Gg_XHW1RZTFaNH-ENRCEWnRFse_IArg2V0mHZAYEQ=s64",
      "userId": "12606220470318159759"
     },
     "user_tz": -480
    },
    "id": "g3Op13MKLomi",
    "outputId": "1fc09399-4be3-407d-a898-245779a78488"
   },
   "outputs": [
    {
     "name": "stdout",
     "output_type": "stream",
     "text": [
      "Drive already mounted at /content/drive; to attempt to forcibly remount, call drive.mount(\"/content/drive\", force_remount=True).\n"
     ]
    }
   ],
   "source": [
    "from google.colab import drive\n",
    "drive.mount('/content/drive')"
   ]
  },
  {
   "cell_type": "code",
   "execution_count": 4,
   "id": "ta89i9xBLotX",
   "metadata": {
    "executionInfo": {
     "elapsed": 46,
     "status": "ok",
     "timestamp": 1636387456141,
     "user": {
      "displayName": "Bingming Thum",
      "photoUrl": "https://lh3.googleusercontent.com/a-/AOh14Gg_XHW1RZTFaNH-ENRCEWnRFse_IArg2V0mHZAYEQ=s64",
      "userId": "12606220470318159759"
     },
     "user_tz": -480
    },
    "id": "ta89i9xBLotX"
   },
   "outputs": [],
   "source": [
    "path_name = '/content/drive/MyDrive/DSI24/wine_df_cleaned.csv'"
   ]
  },
  {
   "cell_type": "code",
   "execution_count": 5,
   "id": "ztlCwbO4Loyy",
   "metadata": {
    "executionInfo": {
     "elapsed": 45,
     "status": "ok",
     "timestamp": 1636387456142,
     "user": {
      "displayName": "Bingming Thum",
      "photoUrl": "https://lh3.googleusercontent.com/a-/AOh14Gg_XHW1RZTFaNH-ENRCEWnRFse_IArg2V0mHZAYEQ=s64",
      "userId": "12606220470318159759"
     },
     "user_tz": -480
    },
    "id": "ztlCwbO4Loyy"
   },
   "outputs": [],
   "source": [
    "test_table = pd.read_csv('/content/drive/MyDrive/DSI24/test_table.csv')\n",
    "wine_df = pd.read_csv(path_name)\n",
    "wine_notes = [note for note in wine_df['wine_notes']]"
   ]
  },
  {
   "cell_type": "code",
   "execution_count": 6,
   "id": "fd7c71bf",
   "metadata": {
    "executionInfo": {
     "elapsed": 43,
     "status": "ok",
     "timestamp": 1636387456142,
     "user": {
      "displayName": "Bingming Thum",
      "photoUrl": "https://lh3.googleusercontent.com/a-/AOh14Gg_XHW1RZTFaNH-ENRCEWnRFse_IArg2V0mHZAYEQ=s64",
      "userId": "12606220470318159759"
     },
     "user_tz": -480
    },
    "id": "fd7c71bf"
   },
   "outputs": [],
   "source": [
    "# path_name = 'wine_df_cleaned.csv'"
   ]
  },
  {
   "cell_type": "code",
   "execution_count": 7,
   "id": "f86a2461",
   "metadata": {
    "executionInfo": {
     "elapsed": 45,
     "status": "ok",
     "timestamp": 1636387456144,
     "user": {
      "displayName": "Bingming Thum",
      "photoUrl": "https://lh3.googleusercontent.com/a-/AOh14Gg_XHW1RZTFaNH-ENRCEWnRFse_IArg2V0mHZAYEQ=s64",
      "userId": "12606220470318159759"
     },
     "user_tz": -480
    },
    "id": "f86a2461"
   },
   "outputs": [],
   "source": [
    "# wine_df = pd.read_csv(path_name)"
   ]
  },
  {
   "cell_type": "markdown",
   "id": "3ffc91dc",
   "metadata": {},
   "source": [
    "## Preprocessing Data"
   ]
  },
  {
   "cell_type": "code",
   "execution_count": 9,
   "id": "1c8acfad",
   "metadata": {
    "executionInfo": {
     "elapsed": 39,
     "status": "ok",
     "timestamp": 1636387456145,
     "user": {
      "displayName": "Bingming Thum",
      "photoUrl": "https://lh3.googleusercontent.com/a-/AOh14Gg_XHW1RZTFaNH-ENRCEWnRFse_IArg2V0mHZAYEQ=s64",
      "userId": "12606220470318159759"
     },
     "user_tz": -480
    },
    "id": "1c8acfad"
   },
   "outputs": [],
   "source": [
    "# tf.data\n",
    "\n",
    "class WinenoteDataset:\n",
    "    def __init__(self):\n",
    "        self.wine_tokenizer = None\n",
    "\n",
    "    def preprocess_sentence(self, w):\n",
    "        w = w + ' <end>'\n",
    "        return w\n",
    "\n",
    "    def create_dataset(self, path, num_examples):\n",
    "        # path : path to wine_notes.txt file\n",
    "        # num_examples : Limit the total number of training example for faster training (set num_examples = len(lines) to use full data)\n",
    "        wine_df = pd.read_csv(path)\n",
    "        wine_notes = [self.preprocess_sentence(note) for note in wine_df['wine_notes'][:num_examples]]\n",
    "        return wine_notes\n",
    "\n",
    "    def tokenize(self, notes):\n",
    "        tokenizer = Tokenizer()\n",
    "        tokenizer.fit_on_texts(notes)\n",
    "        tensor = tokenizer.texts_to_sequences(notes)\n",
    "        padded_tensor = tf.keras.preprocessing.sequence.pad_sequences(tensor, maxlen=75, padding='pre')\n",
    "\n",
    "        return padded_tensor, tokenizer\n",
    "\n",
    "    def load_dataset(self, path, num_examples=None):\n",
    "        wine_notes = self.create_dataset(path, num_examples)\n",
    "        wine_notes, self.wine_tokenizer = self.tokenize(wine_notes)\n",
    "\n",
    "        return wine_notes, self.wine_tokenizer\n",
    "    \n",
    "    def call(self, num_examples, batch_size):\n",
    "        tensor, self.wine_tokenizer = self.load_dataset(path_name, num_examples)\n",
    "        tensor = tf.convert_to_tensor(tensor, dtype=tf.int64)\n",
    "        wine_dataset = tf.data.Dataset.from_tensor_slices(tensor)\n",
    "        wine_dataset = wine_dataset.batch(batch_size, drop_remainder = True, num_parallel_calls = AUTOTUNE\n",
    "                                         ).prefetch(AUTOTUNE)\n",
    "        \n",
    "        return wine_dataset, self.wine_tokenizer"
   ]
  },
  {
   "cell_type": "code",
   "execution_count": 10,
   "id": "e9252f6f",
   "metadata": {
    "executionInfo": {
     "elapsed": 5592,
     "status": "ok",
     "timestamp": 1636387461700,
     "user": {
      "displayName": "Bingming Thum",
      "photoUrl": "https://lh3.googleusercontent.com/a-/AOh14Gg_XHW1RZTFaNH-ENRCEWnRFse_IArg2V0mHZAYEQ=s64",
      "userId": "12606220470318159759"
     },
     "user_tz": -480
    },
    "id": "e9252f6f"
   },
   "outputs": [],
   "source": [
    "# batch_size = 512\n",
    "# num_examples = 3000\n",
    "# Limiting the training examples for faster training\n",
    "batch_size = 4096\n",
    "num_examples = len(wine_df)\n",
    "\n",
    "dataset_creator = WinenoteDataset()\n",
    "wine_dataset, wine_tokenizer = dataset_creator.call(num_examples, batch_size)"
   ]
  },
  {
   "cell_type": "markdown",
   "id": "bd7863fd",
   "metadata": {},
   "source": [
    "## Model Creation"
   ]
  },
  {
   "cell_type": "code",
   "execution_count": 11,
   "id": "23ba2c69",
   "metadata": {
    "executionInfo": {
     "elapsed": 26,
     "status": "ok",
     "timestamp": 1636387461702,
     "user": {
      "displayName": "Bingming Thum",
      "photoUrl": "https://lh3.googleusercontent.com/a-/AOh14Gg_XHW1RZTFaNH-ENRCEWnRFse_IArg2V0mHZAYEQ=s64",
      "userId": "12606220470318159759"
     },
     "user_tz": -480
    },
    "id": "23ba2c69"
   },
   "outputs": [],
   "source": [
    "total_words = len(wine_tokenizer.word_index)\n",
    "max_sequence_len = 75"
   ]
  },
  {
   "cell_type": "code",
   "execution_count": 12,
   "id": "AZkmex7RJtcG",
   "metadata": {
    "executionInfo": {
     "elapsed": 26,
     "status": "ok",
     "timestamp": 1636387461705,
     "user": {
      "displayName": "Bingming Thum",
      "photoUrl": "https://lh3.googleusercontent.com/a-/AOh14Gg_XHW1RZTFaNH-ENRCEWnRFse_IArg2V0mHZAYEQ=s64",
      "userId": "12606220470318159759"
     },
     "user_tz": -480
    },
    "id": "AZkmex7RJtcG"
   },
   "outputs": [],
   "source": [
    "checkpoint_path = \"/model_1/checkpoints/model_1.cpkt\"\n",
    "\n",
    "earlystop = EarlyStopping(monitor='sparse_categorical_accuracy', min_delta=0, patience=5, verbose=0, mode='auto')\n",
    "checkpoints = ModelCheckpoint(\n",
    "    filepath=checkpoint_path, monitor='sparse_categorical_accuracy', verbose=1, save_best_only=False,\n",
    "    save_weights_only=False, mode='auto', save_freq='epoch'\n",
    ")"
   ]
  },
  {
   "cell_type": "code",
   "execution_count": 13,
   "id": "6b65e543",
   "metadata": {
    "colab": {
     "base_uri": "https://localhost:8080/"
    },
    "executionInfo": {
     "elapsed": 1215,
     "status": "ok",
     "timestamp": 1636387462901,
     "user": {
      "displayName": "Bingming Thum",
      "photoUrl": "https://lh3.googleusercontent.com/a-/AOh14Gg_XHW1RZTFaNH-ENRCEWnRFse_IArg2V0mHZAYEQ=s64",
      "userId": "12606220470318159759"
     },
     "user_tz": -480
    },
    "id": "6b65e543",
    "outputId": "e0adc49e-583b-4739-9440-c7ab8728dd3c"
   },
   "outputs": [
    {
     "name": "stdout",
     "output_type": "stream",
     "text": [
      "Model: \"sequential\"\n",
      "_________________________________________________________________\n",
      "Layer (type)                 Output Shape              Param #   \n",
      "=================================================================\n",
      "embedding (Embedding)        (None, 74, 2500)          62955000  \n",
      "_________________________________________________________________\n",
      "bidirectional (Bidirectional (None, 74, 300)           3181200   \n",
      "_________________________________________________________________\n",
      "dropout (Dropout)            (None, 74, 300)           0         \n",
      "_________________________________________________________________\n",
      "layer_normalization (LayerNo (None, 74, 300)           600       \n",
      "_________________________________________________________________\n",
      "bidirectional_1 (Bidirection (None, 74, 300)           541200    \n",
      "_________________________________________________________________\n",
      "dropout_1 (Dropout)          (None, 74, 300)           0         \n",
      "_________________________________________________________________\n",
      "layer_normalization_1 (Layer (None, 74, 300)           600       \n",
      "_________________________________________________________________\n",
      "bidirectional_2 (Bidirection (None, 300)               541200    \n",
      "_________________________________________________________________\n",
      "dropout_2 (Dropout)          (None, 300)               0         \n",
      "_________________________________________________________________\n",
      "layer_normalization_2 (Layer (None, 300)               600       \n",
      "_________________________________________________________________\n",
      "dense (Dense)                (None, 25181)             7579481   \n",
      "=================================================================\n",
      "Total params: 74,799,881\n",
      "Trainable params: 74,799,881\n",
      "Non-trainable params: 0\n",
      "_________________________________________________________________\n",
      "None\n"
     ]
    }
   ],
   "source": [
    "n_epochs = 10\n",
    "\n",
    "model = Sequential()\n",
    "model.add(Embedding((total_words + 1), 2500, input_length=max_sequence_len-1))\n",
    "\n",
    "model.add(Bidirectional(LSTM(150, return_sequences = True)))\n",
    "model.add(Dropout(0.4))\n",
    "model.add(LayerNormalization(epsilon=1e-6))\n",
    "\n",
    "model.add(Bidirectional(LSTM(150, return_sequences = True)))\n",
    "model.add(Dropout(0.4))\n",
    "model.add(LayerNormalization(epsilon=1e-6))\n",
    "\n",
    "model.add(Bidirectional(LSTM(150)))\n",
    "model.add(Dropout(0.4))\n",
    "model.add(LayerNormalization(epsilon=1e-6))\n",
    "\n",
    "model.add(Dense(total_words, activation='softmax'))\n",
    "adam = Adam(learning_rate=0.01)\n",
    "model.compile(loss='sparse_categorical_crossentropy', optimizer=adam, metrics=['sparse_categorical_accuracy'])\n",
    "#earlystop = EarlyStopping(monitor='val_loss', min_delta=0, patience=5, verbose=0, mode='auto')\n",
    "\n",
    "print(model.summary())"
   ]
  },
  {
   "cell_type": "code",
   "execution_count": 14,
   "id": "5ea61f7e",
   "metadata": {
    "colab": {
     "base_uri": "https://localhost:8080/"
    },
    "executionInfo": {
     "elapsed": 52423590,
     "status": "ok",
     "timestamp": 1636439886480,
     "user": {
      "displayName": "Bingming Thum",
      "photoUrl": "https://lh3.googleusercontent.com/a-/AOh14Gg_XHW1RZTFaNH-ENRCEWnRFse_IArg2V0mHZAYEQ=s64",
      "userId": "12606220470318159759"
     },
     "user_tz": -480
    },
    "id": "5ea61f7e",
    "outputId": "ec98fb1c-8b34-4c63-bfb8-481c2eb91fd8",
    "scrolled": true
   },
   "outputs": [
    {
     "name": "stdout",
     "output_type": "stream",
     "text": [
      "Epoch 1 starting...\n",
      "6916/6916 [==============================] - 474s 67ms/step - loss: 6.7308 - sparse_categorical_accuracy: 0.0587\n",
      "7423/7423 [==============================] - 497s 67ms/step - loss: 6.4816 - sparse_categorical_accuracy: 0.0692\n",
      "7299/7299 [==============================] - 489s 67ms/step - loss: 6.5105 - sparse_categorical_accuracy: 0.0685\n",
      "7339/7339 [==============================] - 492s 67ms/step - loss: 6.4518 - sparse_categorical_accuracy: 0.0738\n",
      "7211/7211 [==============================] - 508s 70ms/step - loss: 6.3348 - sparse_categorical_accuracy: 0.0778\n",
      "7013/7013 [==============================] - 468s 67ms/step - loss: 6.2668 - sparse_categorical_accuracy: 0.0825\n",
      "7187/7187 [==============================] - 480s 67ms/step - loss: 6.0776 - sparse_categorical_accuracy: 0.0950\n",
      "6991/6991 [==============================] - 466s 67ms/step - loss: 6.0154 - sparse_categorical_accuracy: 0.0975\n",
      "7024/7024 [==============================] - 467s 67ms/step - loss: 5.9418 - sparse_categorical_accuracy: 0.1038\n",
      "7028/7028 [==============================] - 468s 67ms/step - loss: 5.9350 - sparse_categorical_accuracy: 0.1025\n",
      "6932/6932 [==============================] - 461s 67ms/step - loss: 5.9283 - sparse_categorical_accuracy: 0.1043\n",
      "Time taken for 1 epoch: 5279.82 secs\n",
      "\n",
      "Epoch 2 starting...\n",
      "6916/6916 [==============================] - 460s 67ms/step - loss: 6.5848 - sparse_categorical_accuracy: 0.1011\n",
      "7423/7423 [==============================] - 495s 67ms/step - loss: 6.1409 - sparse_categorical_accuracy: 0.1192\n",
      "7299/7299 [==============================] - 487s 67ms/step - loss: 6.2307 - sparse_categorical_accuracy: 0.1108\n",
      "7339/7339 [==============================] - 492s 67ms/step - loss: 6.1897 - sparse_categorical_accuracy: 0.1012\n",
      "7211/7211 [==============================] - 503s 70ms/step - loss: 6.0949 - sparse_categorical_accuracy: 0.1046\n",
      "7013/7013 [==============================] - 467s 67ms/step - loss: 6.0754 - sparse_categorical_accuracy: 0.1035\n",
      "7187/7187 [==============================] - 474s 66ms/step - loss: 5.9483 - sparse_categorical_accuracy: 0.1073\n",
      "6991/6991 [==============================] - 465s 66ms/step - loss: 5.8752 - sparse_categorical_accuracy: 0.1114\n",
      "7024/7024 [==============================] - 468s 67ms/step - loss: 5.8720 - sparse_categorical_accuracy: 0.1098\n",
      "7028/7028 [==============================] - 469s 67ms/step - loss: 5.8403 - sparse_categorical_accuracy: 0.1059\n",
      "6932/6932 [==============================] - 462s 67ms/step - loss: 5.8217 - sparse_categorical_accuracy: 0.1101\n",
      "Time taken for 1 epoch: 5251.89 secs\n",
      "\n",
      "Epoch 3 starting...\n",
      "6916/6916 [==============================] - 461s 67ms/step - loss: 6.5771 - sparse_categorical_accuracy: 0.1017\n",
      "7423/7423 [==============================] - 496s 67ms/step - loss: 6.1793 - sparse_categorical_accuracy: 0.1113\n",
      "7299/7299 [==============================] - 487s 67ms/step - loss: 6.2385 - sparse_categorical_accuracy: 0.1067\n",
      "7339/7339 [==============================] - 490s 67ms/step - loss: 6.2117 - sparse_categorical_accuracy: 0.1001\n",
      "7211/7211 [==============================] - 503s 70ms/step - loss: 6.0869 - sparse_categorical_accuracy: 0.1048\n",
      "7013/7013 [==============================] - 468s 67ms/step - loss: 6.0434 - sparse_categorical_accuracy: 0.1055\n",
      "7187/7187 [==============================] - 481s 67ms/step - loss: 5.9220 - sparse_categorical_accuracy: 0.1083\n",
      "6991/6991 [==============================] - 468s 67ms/step - loss: 5.9221 - sparse_categorical_accuracy: 0.1107\n",
      "7024/7024 [==============================] - 469s 67ms/step - loss: 5.9206 - sparse_categorical_accuracy: 0.1086\n",
      "7028/7028 [==============================] - 467s 67ms/step - loss: 5.9340 - sparse_categorical_accuracy: 0.1047\n",
      "6932/6932 [==============================] - 460s 66ms/step - loss: 5.9064 - sparse_categorical_accuracy: 0.1069\n",
      "Time taken for 1 epoch: 5260.47 secs\n",
      "\n",
      "Epoch 4 starting...\n",
      "6916/6916 [==============================] - 458s 66ms/step - loss: 6.6151 - sparse_categorical_accuracy: 0.1014\n",
      "7423/7423 [==============================] - 492s 66ms/step - loss: 6.1993 - sparse_categorical_accuracy: 0.1128\n",
      "7299/7299 [==============================] - 483s 66ms/step - loss: 6.2702 - sparse_categorical_accuracy: 0.1058\n",
      "7339/7339 [==============================] - 486s 66ms/step - loss: 6.2129 - sparse_categorical_accuracy: 0.1013\n",
      "7211/7211 [==============================] - 496s 69ms/step - loss: 6.1225 - sparse_categorical_accuracy: 0.1058\n",
      "7013/7013 [==============================] - 464s 66ms/step - loss: 6.0513 - sparse_categorical_accuracy: 0.1080\n",
      "7187/7187 [==============================] - 475s 66ms/step - loss: 5.9647 - sparse_categorical_accuracy: 0.1095\n",
      "6991/6991 [==============================] - 462s 66ms/step - loss: 5.9800 - sparse_categorical_accuracy: 0.1082\n",
      "7024/7024 [==============================] - 466s 66ms/step - loss: 5.9892 - sparse_categorical_accuracy: 0.1059\n",
      "7028/7028 [==============================] - 465s 66ms/step - loss: 5.9620 - sparse_categorical_accuracy: 0.1020\n",
      "6932/6932 [==============================] - 459s 66ms/step - loss: 5.9237 - sparse_categorical_accuracy: 0.1051\n",
      "Time taken for 1 epoch: 5216.30 secs\n",
      "\n",
      "Epoch 5 starting...\n",
      "6916/6916 [==============================] - 458s 66ms/step - loss: 6.6448 - sparse_categorical_accuracy: 0.1005\n",
      "7423/7423 [==============================] - 491s 66ms/step - loss: 6.1863 - sparse_categorical_accuracy: 0.1104\n",
      "7299/7299 [==============================] - 483s 66ms/step - loss: 6.3012 - sparse_categorical_accuracy: 0.1031\n",
      "7339/7339 [==============================] - 486s 66ms/step - loss: 6.2432 - sparse_categorical_accuracy: 0.0979\n",
      "7211/7211 [==============================] - 497s 69ms/step - loss: 6.1259 - sparse_categorical_accuracy: 0.1039\n",
      "7013/7013 [==============================] - 463s 66ms/step - loss: 6.1007 - sparse_categorical_accuracy: 0.1038\n",
      "7187/7187 [==============================] - 475s 66ms/step - loss: 5.9707 - sparse_categorical_accuracy: 0.1077\n",
      "6991/6991 [==============================] - 462s 66ms/step - loss: 6.0060 - sparse_categorical_accuracy: 0.1080\n",
      "7024/7024 [==============================] - 464s 66ms/step - loss: 5.9966 - sparse_categorical_accuracy: 0.1071\n",
      "7028/7028 [==============================] - 465s 66ms/step - loss: 5.9785 - sparse_categorical_accuracy: 0.1071\n",
      "6932/6932 [==============================] - 458s 66ms/step - loss: 5.9692 - sparse_categorical_accuracy: 0.1065\n",
      "Time taken for 1 epoch: 5210.48 secs\n",
      "\n",
      "Epoch 6 starting...\n",
      "6916/6916 [==============================] - 458s 66ms/step - loss: 6.6862 - sparse_categorical_accuracy: 0.1005\n",
      "7423/7423 [==============================] - 491s 66ms/step - loss: 6.2044 - sparse_categorical_accuracy: 0.1118\n",
      "7299/7299 [==============================] - 482s 66ms/step - loss: 6.2876 - sparse_categorical_accuracy: 0.1048\n",
      "7339/7339 [==============================] - 485s 66ms/step - loss: 6.2235 - sparse_categorical_accuracy: 0.1002\n",
      "7211/7211 [==============================] - 497s 69ms/step - loss: 6.1359 - sparse_categorical_accuracy: 0.1029\n",
      "7013/7013 [==============================] - 464s 66ms/step - loss: 6.1142 - sparse_categorical_accuracy: 0.1045\n",
      "7187/7187 [==============================] - 475s 66ms/step - loss: 6.0348 - sparse_categorical_accuracy: 0.1067\n",
      "6991/6991 [==============================] - 463s 66ms/step - loss: 6.0726 - sparse_categorical_accuracy: 0.1041\n",
      "7024/7024 [==============================] - 464s 66ms/step - loss: 6.0721 - sparse_categorical_accuracy: 0.0994\n",
      "7028/7028 [==============================] - 465s 66ms/step - loss: 6.0642 - sparse_categorical_accuracy: 0.0957\n",
      "6932/6932 [==============================] - 459s 66ms/step - loss: 6.0419 - sparse_categorical_accuracy: 0.0974\n",
      "Time taken for 1 epoch: 5210.60 secs\n",
      "\n",
      "Epoch 7 starting...\n",
      "6916/6916 [==============================] - 457s 66ms/step - loss: 6.7142 - sparse_categorical_accuracy: 0.1005\n",
      "7423/7423 [==============================] - 491s 66ms/step - loss: 6.2826 - sparse_categorical_accuracy: 0.1067\n",
      "7299/7299 [==============================] - 484s 66ms/step - loss: 6.3680 - sparse_categorical_accuracy: 0.0995\n",
      "7339/7339 [==============================] - 487s 66ms/step - loss: 6.3745 - sparse_categorical_accuracy: 0.0905\n",
      "7211/7211 [==============================] - 497s 69ms/step - loss: 6.2707 - sparse_categorical_accuracy: 0.0965\n",
      "7013/7013 [==============================] - 464s 66ms/step - loss: 6.2102 - sparse_categorical_accuracy: 0.0986\n",
      "7187/7187 [==============================] - 476s 66ms/step - loss: 6.1012 - sparse_categorical_accuracy: 0.0979\n",
      "6991/6991 [==============================] - 461s 66ms/step - loss: 6.1020 - sparse_categorical_accuracy: 0.0987\n",
      "7024/7024 [==============================] - 466s 66ms/step - loss: 6.0940 - sparse_categorical_accuracy: 0.1007\n",
      "7028/7028 [==============================] - 467s 66ms/step - loss: 6.0997 - sparse_categorical_accuracy: 0.0986\n",
      "6932/6932 [==============================] - 461s 67ms/step - loss: 6.0708 - sparse_categorical_accuracy: 0.0981\n",
      "Time taken for 1 epoch: 5221.32 secs\n",
      "\n",
      "Epoch 8 starting...\n",
      "6916/6916 [==============================] - 461s 67ms/step - loss: 6.7704 - sparse_categorical_accuracy: 0.0940\n",
      "7423/7423 [==============================] - 495s 67ms/step - loss: 6.2858 - sparse_categorical_accuracy: 0.1061\n",
      "7299/7299 [==============================] - 486s 67ms/step - loss: 6.3676 - sparse_categorical_accuracy: 0.1011\n",
      "7339/7339 [==============================] - 489s 67ms/step - loss: 6.2994 - sparse_categorical_accuracy: 0.0954\n",
      "7211/7211 [==============================] - 501s 69ms/step - loss: 6.2338 - sparse_categorical_accuracy: 0.0972\n",
      "7013/7013 [==============================] - 467s 67ms/step - loss: 6.2157 - sparse_categorical_accuracy: 0.0956\n",
      "7187/7187 [==============================] - 478s 67ms/step - loss: 6.1361 - sparse_categorical_accuracy: 0.0970\n",
      "6991/6991 [==============================] - 465s 66ms/step - loss: 6.1392 - sparse_categorical_accuracy: 0.0973\n",
      "7024/7024 [==============================] - 468s 67ms/step - loss: 6.1173 - sparse_categorical_accuracy: 0.0988\n",
      "7028/7028 [==============================] - 469s 67ms/step - loss: 6.0797 - sparse_categorical_accuracy: 0.0998\n",
      "6932/6932 [==============================] - 462s 67ms/step - loss: 6.0960 - sparse_categorical_accuracy: 0.0962\n",
      "Time taken for 1 epoch: 5252.40 secs\n",
      "\n",
      "Epoch 9 starting...\n",
      "6916/6916 [==============================] - 461s 67ms/step - loss: 6.7700 - sparse_categorical_accuracy: 0.0962\n",
      "7423/7423 [==============================] - 493s 66ms/step - loss: 6.2763 - sparse_categorical_accuracy: 0.1090\n",
      "7299/7299 [==============================] - 486s 67ms/step - loss: 6.3603 - sparse_categorical_accuracy: 0.1018\n",
      "7339/7339 [==============================] - 488s 67ms/step - loss: 6.3249 - sparse_categorical_accuracy: 0.0949\n",
      "7211/7211 [==============================] - 503s 70ms/step - loss: 6.2326 - sparse_categorical_accuracy: 0.0992\n",
      "7013/7013 [==============================] - 470s 67ms/step - loss: 6.1790 - sparse_categorical_accuracy: 0.0976\n",
      "7187/7187 [==============================] - 480s 67ms/step - loss: 6.1120 - sparse_categorical_accuracy: 0.0958\n",
      "6991/6991 [==============================] - 465s 67ms/step - loss: 6.1097 - sparse_categorical_accuracy: 0.0972\n",
      "7024/7024 [==============================] - 467s 67ms/step - loss: 6.1134 - sparse_categorical_accuracy: 0.0969\n",
      "7028/7028 [==============================] - 467s 66ms/step - loss: 6.1238 - sparse_categorical_accuracy: 0.0948\n",
      "6932/6932 [==============================] - 460s 66ms/step - loss: 6.1055 - sparse_categorical_accuracy: 0.0954\n",
      "Time taken for 1 epoch: 5250.26 secs\n",
      "\n",
      "Epoch 10 starting...\n",
      "6916/6916 [==============================] - 458s 66ms/step - loss: 6.7929 - sparse_categorical_accuracy: 0.0978\n",
      "7423/7423 [==============================] - 492s 66ms/step - loss: 6.2904 - sparse_categorical_accuracy: 0.1101\n",
      "7299/7299 [==============================] - 484s 66ms/step - loss: 6.3774 - sparse_categorical_accuracy: 0.1040\n",
      "7339/7339 [==============================] - 491s 67ms/step - loss: 6.3705 - sparse_categorical_accuracy: 0.0954\n",
      "7211/7211 [==============================] - 504s 70ms/step - loss: 6.2546 - sparse_categorical_accuracy: 0.1003\n",
      "7013/7013 [==============================] - 470s 67ms/step - loss: 6.2395 - sparse_categorical_accuracy: 0.0977\n",
      "7187/7187 [==============================] - 482s 67ms/step - loss: 6.1136 - sparse_categorical_accuracy: 0.1012\n",
      "6991/6991 [==============================] - 470s 67ms/step - loss: 6.1164 - sparse_categorical_accuracy: 0.0998\n",
      "7024/7024 [==============================] - 472s 67ms/step - loss: 6.1379 - sparse_categorical_accuracy: 0.0987\n",
      "7028/7028 [==============================] - 472s 67ms/step - loss: 6.1317 - sparse_categorical_accuracy: 0.0957\n",
      "6932/6932 [==============================] - 466s 67ms/step - loss: 6.1420 - sparse_categorical_accuracy: 0.0950\n",
      "Time taken for 1 epoch: 5270.19 secs\n",
      "\n"
     ]
    }
   ],
   "source": [
    "steps_per_epoch = (num_examples//batch_size) + 1\n",
    "\n",
    "for epoch in range(n_epochs):\n",
    "    start = time.time()\n",
    "    print(f'Epoch {epoch + 1} starting...')\n",
    "    for wine_notes in wine_dataset.take(steps_per_epoch):\n",
    "        input_sequences = []\n",
    "        for line in wine_notes.numpy():\n",
    "            for i in range(1, len(line)):\n",
    "                if line[i] != 0:\n",
    "                    n_gram_sequence = line[:i+1]\n",
    "                    input_sequences.append(n_gram_sequence)\n",
    "        input_sequences = tf.keras.preprocessing.sequence.pad_sequences(input_sequences, maxlen=75, padding='pre')\n",
    "        sentences, labels = input_sequences[:,:-1], input_sequences[:,-1]\n",
    "        model.fit(\n",
    "            sentences, \n",
    "            labels, \n",
    "            verbose=1, \n",
    "        )\n",
    "    print(f'Time taken for 1 epoch: {time.time() - start:.2f} secs\\n')"
   ]
  },
  {
   "cell_type": "markdown",
   "id": "ee1d9480",
   "metadata": {},
   "source": [
    "## Text Generation"
   ]
  },
  {
   "cell_type": "markdown",
   "id": "cfc00996",
   "metadata": {},
   "source": [
    "### Text Generation Functions"
   ]
  },
  {
   "cell_type": "code",
   "execution_count": 19,
   "id": "tr_3RuRBbc8Q",
   "metadata": {
    "colab": {
     "base_uri": "https://localhost:8080/"
    },
    "executionInfo": {
     "elapsed": 782,
     "status": "ok",
     "timestamp": 1636440094702,
     "user": {
      "displayName": "Bingming Thum",
      "photoUrl": "https://lh3.googleusercontent.com/a-/AOh14Gg_XHW1RZTFaNH-ENRCEWnRFse_IArg2V0mHZAYEQ=s64",
      "userId": "12606220470318159759"
     },
     "user_tz": -480
    },
    "id": "tr_3RuRBbc8Q",
    "outputId": "4efbd8db-88aa-4eae-8539-0e539acca6e2"
   },
   "outputs": [
    {
     "data": {
      "text/plain": [
       "[[6]]"
      ]
     },
     "execution_count": 19,
     "metadata": {},
     "output_type": "execute_result"
    }
   ],
   "source": [
    "wine_tokenizer.texts_to_sequences(['<end>'])"
   ]
  },
  {
   "cell_type": "code",
   "execution_count": 21,
   "id": "4e3d6b5e",
   "metadata": {
    "executionInfo": {
     "elapsed": 11,
     "status": "ok",
     "timestamp": 1636440118191,
     "user": {
      "displayName": "Bingming Thum",
      "photoUrl": "https://lh3.googleusercontent.com/a-/AOh14Gg_XHW1RZTFaNH-ENRCEWnRFse_IArg2V0mHZAYEQ=s64",
      "userId": "12606220470318159759"
     },
     "user_tz": -480
    },
    "id": "4e3d6b5e"
   },
   "outputs": [],
   "source": [
    "def tasting_note(seed_text, length):\n",
    "    for _ in range(length):\n",
    "        token_list = wine_tokenizer.texts_to_sequences([seed_text])[0]\n",
    "        token_list = pad_sequences([token_list], maxlen=max_sequence_len-1, padding='pre')\n",
    "        predict_x=model.predict(token_list)\n",
    "        classes_x=np.argmax(predict_x,axis=-1)\n",
    "        output_word = \"\"         \n",
    "        for word, index in wine_tokenizer.word_index.items():\n",
    "            if index == classes_x:\n",
    "                output_word = word\n",
    "                break\n",
    "        if index == 6:\n",
    "            break\n",
    "        seed_text += \" \" + output_word\n",
    "    print(seed_text)"
   ]
  },
  {
   "cell_type": "markdown",
   "id": "6c2af325",
   "metadata": {},
   "source": [
    "### Text Generation"
   ]
  },
  {
   "cell_type": "code",
   "execution_count": 22,
   "id": "17b872c9",
   "metadata": {
    "colab": {
     "base_uri": "https://localhost:8080/"
    },
    "executionInfo": {
     "elapsed": 5818,
     "status": "ok",
     "timestamp": 1636440133419,
     "user": {
      "displayName": "Bingming Thum",
      "photoUrl": "https://lh3.googleusercontent.com/a-/AOh14Gg_XHW1RZTFaNH-ENRCEWnRFse_IArg2V0mHZAYEQ=s64",
      "userId": "12606220470318159759"
     },
     "user_tz": -480
    },
    "id": "17b872c9",
    "outputId": "32c54607-254d-477d-e290-8ea422c58c43",
    "scrolled": true
   },
   "outputs": [
    {
     "name": "stdout",
     "output_type": "stream",
     "text": [
      "Aromatic aromas and dark and dark berry and dark berry and dark berry and dark berry and dark berry and dark berry and dark berry and dark berry and dark berry and dark berry and dark berry and dark berry and dark berry and dark berry and dark berry and dark berry and dark berry and dark berry and dark berry and dark berry and dark berry and dark berry and dark berry and dark berry\n"
     ]
    }
   ],
   "source": [
    "tasting_note('Aromatic', 75)"
   ]
  },
  {
   "cell_type": "code",
   "execution_count": 23,
   "id": "f5fc91bc",
   "metadata": {
    "colab": {
     "base_uri": "https://localhost:8080/"
    },
    "executionInfo": {
     "elapsed": 2328,
     "status": "ok",
     "timestamp": 1636440148606,
     "user": {
      "displayName": "Bingming Thum",
      "photoUrl": "https://lh3.googleusercontent.com/a-/AOh14Gg_XHW1RZTFaNH-ENRCEWnRFse_IArg2V0mHZAYEQ=s64",
      "userId": "12606220470318159759"
     },
     "user_tz": -480
    },
    "id": "f5fc91bc",
    "outputId": "3d3d28db-be1b-408c-aca1-0565160fbd9e"
   },
   "outputs": [
    {
     "name": "stdout",
     "output_type": "stream",
     "text": [
      "Lush aromas and dark berry and dark and dark berry and dark berry and dark berry and dark berry and dark berry and dark berry and dark berry and dark berry and dark berry and dark berry and dark berry and dark berry and dark berry and dark berry and dark\n"
     ]
    }
   ],
   "source": [
    "tasting_note('Lush', 50)"
   ]
  },
  {
   "cell_type": "code",
   "execution_count": 24,
   "id": "6b95057a",
   "metadata": {
    "colab": {
     "base_uri": "https://localhost:8080/"
    },
    "executionInfo": {
     "elapsed": 2766,
     "status": "ok",
     "timestamp": 1636440151359,
     "user": {
      "displayName": "Bingming Thum",
      "photoUrl": "https://lh3.googleusercontent.com/a-/AOh14Gg_XHW1RZTFaNH-ENRCEWnRFse_IArg2V0mHZAYEQ=s64",
      "userId": "12606220470318159759"
     },
     "user_tz": -480
    },
    "id": "6b95057a",
    "outputId": "03c2421e-a87b-4492-c658-06b99d37f109"
   },
   "outputs": [
    {
     "name": "stdout",
     "output_type": "stream",
     "text": [
      "Red Wine aromas and dark berry and dark berry and dark berry and dark berry and dark berry and dark berry and dark berry and dark berry and dark berry and dark berry and dark berry and dark berry and dark berry and dark berry and dark berry and dark berry and\n"
     ]
    }
   ],
   "source": [
    "tasting_note('Red Wine', 50)"
   ]
  },
  {
   "cell_type": "code",
   "execution_count": 25,
   "id": "b61f11c3",
   "metadata": {
    "colab": {
     "base_uri": "https://localhost:8080/"
    },
    "executionInfo": {
     "elapsed": 2006,
     "status": "ok",
     "timestamp": 1636440153350,
     "user": {
      "displayName": "Bingming Thum",
      "photoUrl": "https://lh3.googleusercontent.com/a-/AOh14Gg_XHW1RZTFaNH-ENRCEWnRFse_IArg2V0mHZAYEQ=s64",
      "userId": "12606220470318159759"
     },
     "user_tz": -480
    },
    "id": "b61f11c3",
    "outputId": "3be314ec-c1a8-4ac5-bb09-90230e2bc9dc"
   },
   "outputs": [
    {
     "name": "stdout",
     "output_type": "stream",
     "text": [
      "Wine and dark berry aromas and dark berry and dark berry and dark berry and dark berry and dark berry and dark berry and dark berry and dark berry and dark berry and dark berry and dark berry and dark berry and dark berry and dark berry and dark berry and\n"
     ]
    }
   ],
   "source": [
    "tasting_note('Wine', 50)"
   ]
  },
  {
   "cell_type": "code",
   "execution_count": 26,
   "id": "10f41ed9",
   "metadata": {
    "colab": {
     "base_uri": "https://localhost:8080/"
    },
    "executionInfo": {
     "elapsed": 2300,
     "status": "ok",
     "timestamp": 1636440155626,
     "user": {
      "displayName": "Bingming Thum",
      "photoUrl": "https://lh3.googleusercontent.com/a-/AOh14Gg_XHW1RZTFaNH-ENRCEWnRFse_IArg2V0mHZAYEQ=s64",
      "userId": "12606220470318159759"
     },
     "user_tz": -480
    },
    "id": "10f41ed9",
    "outputId": "13408fbf-1081-406e-ca40-52cd77ea558e"
   },
   "outputs": [
    {
     "name": "stdout",
     "output_type": "stream",
     "text": [
      "Keyboard bright ruby and dark berry and dark berry and dark berry and dark berry and dark berry and dark berry and dark berry and dark berry and dark berry and dark berry and dark berry and dark berry and dark berry and dark berry and dark berry and dark berry\n"
     ]
    }
   ],
   "source": [
    "tasting_note('Keyboard', 50)"
   ]
  },
  {
   "cell_type": "code",
   "execution_count": 27,
   "id": "8922a9db",
   "metadata": {
    "colab": {
     "base_uri": "https://localhost:8080/"
    },
    "executionInfo": {
     "elapsed": 4862,
     "status": "ok",
     "timestamp": 1636440160478,
     "user": {
      "displayName": "Bingming Thum",
      "photoUrl": "https://lh3.googleusercontent.com/a-/AOh14Gg_XHW1RZTFaNH-ENRCEWnRFse_IArg2V0mHZAYEQ=s64",
      "userId": "12606220470318159759"
     },
     "user_tz": -480
    },
    "id": "8922a9db",
    "outputId": "6fc33e13-0bbb-41c5-9489-294021deed5e"
   },
   "outputs": [
    {
     "name": "stdout",
     "output_type": "stream",
     "text": [
      "Bukit Pasoh bright ruby and dark berry and dark berry and dark berry and dark berry and dark berry and dark berry and dark berry and dark berry and dark berry and dark berry and dark berry and dark berry and dark berry and dark berry and dark berry and dark berry\n"
     ]
    }
   ],
   "source": [
    "tasting_note('Bukit Pasoh', 50)"
   ]
  },
  {
   "cell_type": "code",
   "execution_count": 28,
   "id": "44567471",
   "metadata": {
    "executionInfo": {
     "elapsed": 46,
     "status": "ok",
     "timestamp": 1636440160481,
     "user": {
      "displayName": "Bingming Thum",
      "photoUrl": "https://lh3.googleusercontent.com/a-/AOh14Gg_XHW1RZTFaNH-ENRCEWnRFse_IArg2V0mHZAYEQ=s64",
      "userId": "12606220470318159759"
     },
     "user_tz": -480
    },
    "id": "44567471"
   },
   "outputs": [],
   "source": [
    "model.save('model_3.h5')"
   ]
  },
  {
   "cell_type": "code",
   "execution_count": 29,
   "id": "5aa2a9ba",
   "metadata": {
    "colab": {
     "base_uri": "https://localhost:8080/",
     "height": 325
    },
    "executionInfo": {
     "elapsed": 32,
     "status": "error",
     "timestamp": 1636440160484,
     "user": {
      "displayName": "Bingming Thum",
      "photoUrl": "https://lh3.googleusercontent.com/a-/AOh14Gg_XHW1RZTFaNH-ENRCEWnRFse_IArg2V0mHZAYEQ=s64",
      "userId": "12606220470318159759"
     },
     "user_tz": -480
    },
    "id": "5aa2a9ba",
    "outputId": "fcde687f-639a-4b47-82e1-2bec8d026791"
   },
   "outputs": [
    {
     "ename": "OSError",
     "evalue": "ignored",
     "output_type": "error",
     "traceback": [
      "\u001b[0;31m---------------------------------------------------------------------------\u001b[0m",
      "\u001b[0;31mOSError\u001b[0m                                   Traceback (most recent call last)",
      "\u001b[0;32m<ipython-input-29-4d4cdf9912e7>\u001b[0m in \u001b[0;36m<module>\u001b[0;34m()\u001b[0m\n\u001b[0;32m----> 1\u001b[0;31m \u001b[0mmodel_2\u001b[0m \u001b[0;34m=\u001b[0m \u001b[0mtf\u001b[0m\u001b[0;34m.\u001b[0m\u001b[0mkeras\u001b[0m\u001b[0;34m.\u001b[0m\u001b[0mmodels\u001b[0m\u001b[0;34m.\u001b[0m\u001b[0mload_model\u001b[0m\u001b[0;34m(\u001b[0m\u001b[0;34m'model_1.h5'\u001b[0m\u001b[0;34m)\u001b[0m\u001b[0;34m\u001b[0m\u001b[0;34m\u001b[0m\u001b[0m\n\u001b[0m",
      "\u001b[0;32m/usr/local/lib/python3.7/dist-packages/keras/saving/save.py\u001b[0m in \u001b[0;36mload_model\u001b[0;34m(filepath, custom_objects, compile, options)\u001b[0m\n\u001b[1;32m    203\u001b[0m         \u001b[0mfilepath\u001b[0m \u001b[0;34m=\u001b[0m \u001b[0mpath_to_string\u001b[0m\u001b[0;34m(\u001b[0m\u001b[0mfilepath\u001b[0m\u001b[0;34m)\u001b[0m\u001b[0;34m\u001b[0m\u001b[0;34m\u001b[0m\u001b[0m\n\u001b[1;32m    204\u001b[0m         \u001b[0;32mif\u001b[0m \u001b[0misinstance\u001b[0m\u001b[0;34m(\u001b[0m\u001b[0mfilepath\u001b[0m\u001b[0;34m,\u001b[0m \u001b[0mstr\u001b[0m\u001b[0;34m)\u001b[0m\u001b[0;34m:\u001b[0m\u001b[0;34m\u001b[0m\u001b[0;34m\u001b[0m\u001b[0m\n\u001b[0;32m--> 205\u001b[0;31m           \u001b[0;32mreturn\u001b[0m \u001b[0msaved_model_load\u001b[0m\u001b[0;34m.\u001b[0m\u001b[0mload\u001b[0m\u001b[0;34m(\u001b[0m\u001b[0mfilepath\u001b[0m\u001b[0;34m,\u001b[0m \u001b[0mcompile\u001b[0m\u001b[0;34m,\u001b[0m \u001b[0moptions\u001b[0m\u001b[0;34m)\u001b[0m\u001b[0;34m\u001b[0m\u001b[0;34m\u001b[0m\u001b[0m\n\u001b[0m\u001b[1;32m    206\u001b[0m \u001b[0;34m\u001b[0m\u001b[0m\n\u001b[1;32m    207\u001b[0m   raise IOError(\n",
      "\u001b[0;32m/usr/local/lib/python3.7/dist-packages/keras/saving/saved_model/load.py\u001b[0m in \u001b[0;36mload\u001b[0;34m(path, compile, options)\u001b[0m\n\u001b[1;32m    106\u001b[0m   \u001b[0;31m# Look for metadata file or parse the SavedModel\u001b[0m\u001b[0;34m\u001b[0m\u001b[0;34m\u001b[0m\u001b[0;34m\u001b[0m\u001b[0m\n\u001b[1;32m    107\u001b[0m   \u001b[0mmetadata\u001b[0m \u001b[0;34m=\u001b[0m \u001b[0msaved_metadata_pb2\u001b[0m\u001b[0;34m.\u001b[0m\u001b[0mSavedMetadata\u001b[0m\u001b[0;34m(\u001b[0m\u001b[0;34m)\u001b[0m\u001b[0;34m\u001b[0m\u001b[0;34m\u001b[0m\u001b[0m\n\u001b[0;32m--> 108\u001b[0;31m   \u001b[0mmeta_graph_def\u001b[0m \u001b[0;34m=\u001b[0m \u001b[0mtf\u001b[0m\u001b[0;34m.\u001b[0m\u001b[0m__internal__\u001b[0m\u001b[0;34m.\u001b[0m\u001b[0msaved_model\u001b[0m\u001b[0;34m.\u001b[0m\u001b[0mparse_saved_model\u001b[0m\u001b[0;34m(\u001b[0m\u001b[0mpath\u001b[0m\u001b[0;34m)\u001b[0m\u001b[0;34m.\u001b[0m\u001b[0mmeta_graphs\u001b[0m\u001b[0;34m[\u001b[0m\u001b[0;36m0\u001b[0m\u001b[0;34m]\u001b[0m\u001b[0;34m\u001b[0m\u001b[0;34m\u001b[0m\u001b[0m\n\u001b[0m\u001b[1;32m    109\u001b[0m   \u001b[0mobject_graph_def\u001b[0m \u001b[0;34m=\u001b[0m \u001b[0mmeta_graph_def\u001b[0m\u001b[0;34m.\u001b[0m\u001b[0mobject_graph_def\u001b[0m\u001b[0;34m\u001b[0m\u001b[0;34m\u001b[0m\u001b[0m\n\u001b[1;32m    110\u001b[0m   \u001b[0mpath_to_metadata_pb\u001b[0m \u001b[0;34m=\u001b[0m \u001b[0mos\u001b[0m\u001b[0;34m.\u001b[0m\u001b[0mpath\u001b[0m\u001b[0;34m.\u001b[0m\u001b[0mjoin\u001b[0m\u001b[0;34m(\u001b[0m\u001b[0mpath\u001b[0m\u001b[0;34m,\u001b[0m \u001b[0mconstants\u001b[0m\u001b[0;34m.\u001b[0m\u001b[0mSAVED_METADATA_PATH\u001b[0m\u001b[0;34m)\u001b[0m\u001b[0;34m\u001b[0m\u001b[0;34m\u001b[0m\u001b[0m\n",
      "\u001b[0;32m/usr/local/lib/python3.7/dist-packages/tensorflow/python/saved_model/loader_impl.py\u001b[0m in \u001b[0;36mparse_saved_model\u001b[0;34m(export_dir)\u001b[0m\n\u001b[1;32m    119\u001b[0m         \u001b[0;34m\"SavedModel file does not exist at: %s%s{%s|%s}\"\u001b[0m \u001b[0;34m%\u001b[0m\u001b[0;34m\u001b[0m\u001b[0;34m\u001b[0m\u001b[0m\n\u001b[1;32m    120\u001b[0m         (export_dir, os.path.sep, constants.SAVED_MODEL_FILENAME_PBTXT,\n\u001b[0;32m--> 121\u001b[0;31m          constants.SAVED_MODEL_FILENAME_PB))\n\u001b[0m\u001b[1;32m    122\u001b[0m \u001b[0;34m\u001b[0m\u001b[0m\n\u001b[1;32m    123\u001b[0m \u001b[0;34m\u001b[0m\u001b[0m\n",
      "\u001b[0;31mOSError\u001b[0m: SavedModel file does not exist at: model_1.h5/{saved_model.pbtxt|saved_model.pb}"
     ]
    }
   ],
   "source": [
    "model_2 = tf.keras.models.load_model('model_3.h5')"
   ]
  },
  {
   "cell_type": "code",
   "execution_count": null,
   "id": "cb387d1d",
   "metadata": {
    "executionInfo": {
     "elapsed": 25,
     "status": "aborted",
     "timestamp": 1636440160482,
     "user": {
      "displayName": "Bingming Thum",
      "photoUrl": "https://lh3.googleusercontent.com/a-/AOh14Gg_XHW1RZTFaNH-ENRCEWnRFse_IArg2V0mHZAYEQ=s64",
      "userId": "12606220470318159759"
     },
     "user_tz": -480
    },
    "id": "cb387d1d"
   },
   "outputs": [],
   "source": [
    "model_2.summary()"
   ]
  },
  {
   "cell_type": "code",
   "execution_count": null,
   "id": "Mj31NjmWMxjO",
   "metadata": {
    "executionInfo": {
     "elapsed": 1222,
     "status": "aborted",
     "timestamp": 1636439888621,
     "user": {
      "displayName": "Bingming Thum",
      "photoUrl": "https://lh3.googleusercontent.com/a-/AOh14Gg_XHW1RZTFaNH-ENRCEWnRFse_IArg2V0mHZAYEQ=s64",
      "userId": "12606220470318159759"
     },
     "user_tz": -480
    },
    "id": "Mj31NjmWMxjO"
   },
   "outputs": [],
   "source": []
  }
 ],
 "metadata": {
  "accelerator": "GPU",
  "colab": {
   "machine_shape": "hm",
   "name": "Model 3 - Extended Model, Large Dataset.ipynb",
   "provenance": []
  },
  "kernelspec": {
   "display_name": "Python 3",
   "language": "python",
   "name": "python3"
  },
  "language_info": {
   "codemirror_mode": {
    "name": "ipython",
    "version": 3
   },
   "file_extension": ".py",
   "mimetype": "text/x-python",
   "name": "python",
   "nbconvert_exporter": "python",
   "pygments_lexer": "ipython3",
   "version": "3.8.8"
  },
  "toc": {
   "base_numbering": 1,
   "nav_menu": {},
   "number_sections": true,
   "sideBar": true,
   "skip_h1_title": false,
   "title_cell": "Table of Contents",
   "title_sidebar": "Contents",
   "toc_cell": false,
   "toc_position": {},
   "toc_section_display": true,
   "toc_window_display": false
  }
 },
 "nbformat": 4,
 "nbformat_minor": 5
}
