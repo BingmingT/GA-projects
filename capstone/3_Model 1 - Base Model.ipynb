{
 "cells": [
  {
   "cell_type": "markdown",
   "id": "07404d19",
   "metadata": {},
   "source": [
    "# Generative Model for Wine Tasting Notes"
   ]
  },
  {
   "cell_type": "markdown",
   "id": "6d0bcb69",
   "metadata": {},
   "source": [
    "## Overview\n",
    "\n",
    "This notebook contains the data scrapping portion of my NLP Project to create a language generation model capable of producting a wine tasting note based on an initial seed. More detailed information can be found in the Data Cleaning and EDA notebook.\n",
    "\n",
    "Various models will be trained on the datasets of wine tasting notes, small and large, to see if they are able to generate text:\n",
    " - Model 1 - Simple model on the small dataset\n",
    " - Model 2 - LSTM models on small dataset\n",
    " - Model 3 - Base model on the large dataset\n",
    " - Model 4 - Encoder Block on the large dataset\n",
    " - Model 5 - DistilGPT 2 - Pretrain model - on the large dataset"
   ]
  },
  {
   "cell_type": "code",
   "execution_count": 1,
   "id": "60d505f5",
   "metadata": {},
   "outputs": [],
   "source": [
    "import tensorflow as tf\n",
    "import numpy as np \n",
    "import matplotlib.pyplot as plt\n",
    "import pandas as pd\n",
    "import seaborn as sns\n",
    "import re\n",
    "import pickle\n",
    "\n",
    "from tensorflow.keras.preprocessing.sequence import pad_sequences\n",
    "from tensorflow.keras.layers import Embedding, LSTM, Dense, Bidirectional\n",
    "from tensorflow.keras.preprocessing.text import Tokenizer\n",
    "from tensorflow.keras.callbacks import EarlyStopping, ModelCheckpoint\n",
    "from tensorflow.keras.models import Sequential\n",
    "from tensorflow.keras.optimizers import Adam"
   ]
  },
  {
   "cell_type": "code",
   "execution_count": 2,
   "id": "fd7c71bf",
   "metadata": {},
   "outputs": [],
   "source": [
    "wine_df = pd.read_csv('wine_df_small.csv').drop(columns = 'Unnamed: 0')"
   ]
  },
  {
   "cell_type": "code",
   "execution_count": 3,
   "id": "6aae12b8",
   "metadata": {},
   "outputs": [],
   "source": [
    "for row in wine_df.index:\n",
    "    wine_df['wine_notes'][row] = re.sub('\\—[a-zA-Z]+', '', wine_df['wine_notes'][row])"
   ]
  },
  {
   "cell_type": "code",
   "execution_count": 4,
   "id": "846e83e2",
   "metadata": {},
   "outputs": [],
   "source": [
    "wine_notes = [x.lower() + '<end>' for x in wine_df['wine_notes']]"
   ]
  },
  {
   "cell_type": "code",
   "execution_count": 5,
   "id": "6b65e543",
   "metadata": {},
   "outputs": [],
   "source": [
    "tokenizer = Tokenizer()\n",
    "\n",
    "corpus = wine_notes"
   ]
  },
  {
   "cell_type": "code",
   "execution_count": 6,
   "id": "47450fe1",
   "metadata": {},
   "outputs": [
    {
     "name": "stdout",
     "output_type": "stream",
     "text": [
      "{'and': 1, 'cases': 2, 'the': 3, 'with': 4, 'of': 5, 'a': 6, 'through': 7, 'end': 8, 'made': 9, 'flavors': 10, 'now': 11, 'drink': 12, 'finish': 13, 'imported': 14, 'this': 15, '000': 16, 'notes': 17, 'cherry': 18, 'from': 19, 'on': 20, 'acidity': 21, 'tannins': 22, 'black': 23, 'that': 24, 'to': 25, 'red': 26, 'best': 27, 'fruit': 28, 'by': 29, 'in': 30, 'are': 31, 'currant': 32, '1': 33, '500': 34, 'plum': 35, 'well': 36, 'spice': 37, 'tea': 38, 'accents': 39, 'is': 40, 'white': 41, 'cabernet': 42, 'expressive': 43, 'shows': 44, 'rich': 45, 'dark': 46, 'long': 47, 'vibrant': 48, '2022': 49, 'juicy': 50, '3': 51, 'blackberry': 52, '2': 53, 'fresh': 54, 'raspberry': 55, 'dried': 56, 'aromas': 57, '2023': 58, 'texture': 59, 'fine': 60, 'hints': 61, 'mineral': 62, 'medium': 63, 'polished': 64, 'licorice': 65, '4': 66, '2025': 67, 'but': 68, 'balanced': 69, 'richness': 70, 'violet': 71, 'refined': 72, 'apple': 73, 'details': 74, 'lemon': 75, 'sauvignon': 76, 'light': 77, 'anise': 78, 'lively': 79, 'savory': 80, '2021': 81, '2026': 82, 'wild': 83, 'out': 84, 'core': 85, '2040': 86, 'ripe': 87, 'yet': 88, '2027': 89, 'grained': 90, 'creamy': 91, 'an': 92, 'frame': 93, 'green': 94, 'merlot': 95, 'bright': 96, 'style': 97, 'harmonious': 98, '7': 99, 'powerful': 100, 'offers': 101, 'firm': 102, 'intense': 103, 'pure': 104, 'spiced': 105, 'mouthwatering': 106, 'floral': 107, 'infused': 108, '2028': 109, 'bodied': 110, 'showing': 111, 'into': 112, 'orange': 113, 'iron': 114, 'supple': 115, 'herb': 116, 'bay': 117, 'leaf': 118, 'energy': 119, 'tobacco': 120, 'dense': 121, '5': 122, 'elegant': 123, 'toward': 124, 'grapefruit': 125, 'earth': 126, 'offering': 127, 'hint': 128, 'franc': 129, '200': 130, 'ginger': 131, 'peel': 132, '2030': 133, 'structured': 134, 'minerally': 135, 'blueberry': 136, 'sage': 137, 'lingering': 138, 'complex': 139, 'midpalate': 140, 'lingers': 141, 'elements': 142, 'very': 143, 'backed': 144, '2029': 145, 'almond': 146, '6': 147, 'finely': 148, 'pepper': 149, 'where': 150, 'accented': 151, 'linger': 152, '2024': 153, 'lovely': 154, 'stone': 155, 'backbone': 156, 'distinctive': 157, 'while': 158, 'structure': 159, 'berry': 160, 'way': 161, 'followed': 162, 'for': 163, 'layered': 164, 'up': 165, 'crushed': 166, 'which': 167, 'depth': 168, 'olive': 169, 'quince': 170, 'pear': 171, 'knit': 172, 'sandalwood': 173, '900': 174, '2032': 175, 'yellow': 176, 'generous': 177, 'sleek': 178, 'impressive': 179, 'integrated': 180, 'terrific': 181, 'its': 182, '600': 183, 'slightly': 184, 'ample': 185, 'minerality': 186, 'along': 187, '800': 188, 'tart': 189, 'grip': 190, 'spicy': 191, 'tension': 192, 'candied': 193, 'toasted': 194, 'aromatic': 195, 'start': 196, 'harmony': 197, 'carries': 198, 'cedar': 199, 'mix': 200, 'defined': 201, 'power': 202, 'wrapped': 203, 'aftertaste': 204, 'blossom': 205, 'will': 206, '2035': 207, 'focused': 208, 'cassis': 209, 'supported': 210, 'peach': 211, 'laced': 212, 'zesty': 213, 'bit': 214, 'cut': 215, '250': 216, 'full': 217, 'sweet': 218, 'edge': 219, 'off': 220, 'version': 221, 'tangy': 222, 'racy': 223, 'forest': 224, 'floor': 225, 'mingle': 226, 'tempranillo': 227, 'edged': 228, 'purity': 229, 'flint': 230, 'underbrush': 231, '300': 232, '650': 233, 'sassafras': 234, 'built': 235, 'age': 236, 'açaí': 237, 'giving': 238, 'singed': 239, 'leather': 240, 'tar': 241, 'echoes': 242, 'crunchy': 243, 'concentrated': 244, 'at': 245, 'right': 246, 'time': 247, 'leading': 248, 'turns': 249, 'chocolate': 250, 'mousse': 251, 'elegantly': 252, 'rose': 253, 'meshed': 254, 'carried': 255, 'lasting': 256, 'espresso': 257, 'beautifully': 258, 'featuring': 259, '15': 260, 'loamy': 261, 'tarragon': 262, 'gives': 263, 'note': 264, 'curd': 265, 'apricot': 266, 'touch': 267, 'finishing': 268, 'deep': 269, 'sangiovese': 270, '700': 271, 'lime': 272, 'intensity': 273, 'verbena': 274, 'alder': 275, 'succulent': 276, 'grated': 277, 'cinnamon': 278, 'keeps': 279, 'beeswax': 280, 'vivid': 281, 'mocha': 282, 'character': 283, 'build': 284, 'jasmine': 285, 'chalky': 286, 'mint': 287, 'crunch': 288, 'preserved': 289, 'some': 290, 'appealing': 291, '9': 292, 'toast': 293, 'food': 294, '2036': 295, 'fig': 296, 'loam': 297, 'tangerine': 298, 'cream': 299, 'inviting': 300, 'graphite': 301, 'petit': 302, 'verdot': 303, '40': 304, '750': 305, 'you': 306, 'round': 307, 'example': 308, 'vanilla': 309, 'over': 310, 'mazuelo': 311, 'hot': 312, 'complexity': 313, '2043': 314, 'damson': 315, 'together': 316, 'lush': 317, 'reduction': 318, 'grounded': 319, 'displays': 320, 'ripples': 321, 'garrigue': 322, 'toasty': 323, 'tightly': 324, 'wound': 325, 'support': 326, 'needs': 327, '2045': 328, 'malbec': 329, 'wine': 330, 'presence': 331, 'petal': 332, 'spine': 333, 'driving': 334, 'ground': 335, 'profile': 336, 'palate': 337, 'richly': 338, 'disgorged': 339, '2019': 340, '850': 341, 'wet': 342, 'clean': 343, 'solidly': 344, 'providing': 345, 'precise': 346, 'matcha': 347, 'suave': 348, 'stretch': 349, 'concentration': 350, 'elegance': 351, 'balance': 352, 'smoky': 353, 'crisp': 354, 'sherbet': 355, 'asian': 356, 'fragrant': 357, 'silky': 358, 'lift': 359, 'tasted': 360, 'twice': 361, 'consistent': 362, 'de': 363, 'root': 364, 'be': 365, 'passion': 366, 'key': 367, 'ruby': 368, 'freshly': 369, 'strawberry': 370, 'distinct': 371, 'play': 372, 'plump': 373, '26': 374, 'give': 375, 'powerfully': 376, 'show': 377, 'oak': 378, '8': 379, 'has': 380, 'solid': 381, 'quinine': 382, 'chamomile': 383, 'saline': 384, 'lightly': 385, '18': 386, 'butter': 387, 'defining': 388, 'coulis': 389, 'tannic': 390, '2033': 391, 'builds': 392, 'muscular': 393, 'syrah': 394, 'drives': 395, '2038': 396, 'brooding': 397, '27': 398, 'tarry': 399, 'adds': 400, 'as': 401, 'broad': 402, 'taut': 403, 'might': 404, 'snappy': 405, 'takes': 406, 'also': 407, 'salty': 408, 'not': 409, 'filled': 410, 'cooking': 411, 'slowly': 412, 'preserve': 413, 'liberally': 414, 'beautiful': 415, 'precision': 416, 'quite': 417, 'boysenberry': 418, 'underpinning': 419, 'tasting': 420, 'driven': 421, 'clove': 422, 'honeysuckle': 423, 'reveals': 424, '35': 425, 'energetic': 426, 'grenache': 427, 'mourvèdre': 428, 'compote': 429, 'serious': 430, 'glass': 431, 'juniper': 432, 'features': 433, 'svelte': 434, 'pleasing': 435, 'nectarine': 436, 'skin': 437, 'due': 438, 'add': 439, 'interest': 440, 'set': 441, 'front': 442, 'drive': 443, '333': 444, 'flesh': 445, 'steeped': 446, 'jonagold': 447, 'hibiscus': 448, 'good': 449, 'focus': 450, 'them': 451, 'chive': 452, 'maturing': 453, 'traditional': 454, 'harmoniously': 455, 'citrusy': 456, 'gentle': 457, '680': 458, 'clarity': 459, '993': 460, 'effusive': 461, 'mark': 462, 'length': 463, 'throws': 464, 'lot': 465, 'first': 466, 'bitter': 467, 'waits': 468, 'turn': 469, 'pulling': 470, 'everything': 471, 'streaked': 472, 'should': 473, 'wonderfully': 474, 'exotic': 475, 'bent': 476, 'worn': 477, 'warm': 478, 'keep': 479, 'old': 480, 'school': 481, 'heft': 482, 'accompanied': 483, 'citrus': 484, 'mcintosh': 485, '979': 486, 'stream': 487, 'heart': 488, 'matrix': 489, 'all': 490, 'proportions': 491, 'just': 492, '100': 493, 'kirsch': 494, 'plush': 495, 'primed': 496, 'expression': 497, 'impeccably': 498, 'evocative': 499, 'brown': 500, 'baking': 501, 'pick': 502, '088': 503, 'goes': 504, 'zero': 505, '60': 506, 'gate': 507, 'coffee': 508, 'expands': 509, 'raw': 510, 'silk–like': 511, 'july': 512, '2037': 513, 'enticing': 514, 'allied': 515, 'loaded': 516, 'mannered': 517, 'possesses': 518, 'extends': 519, 'emerge': 520, 'sculpted': 521, '657': 522, 'breadth': 523, 'honed': 524, 'smooth': 525, 'nutmeg': 526, 'provide': 527, 'slight': 528, '2034': 529, '372': 530, '199': 531, 'slate': 532, 'nicely': 533, '678': 534, 'develop': 535, 'shapely': 536, 'electric': 537, 'stylish': 538, 'memorable': 539, 'strikes': 540, 'ideal': 541, 'between': 542, 'vibrancy': 543, 'palo': 544, 'santo': 545, '225': 546, 'buoyed': 547, '550': 548, 'stand': 549, 'equally': 550, 'about': 551, 'nuances': 552, 'freshness': 553, 'accent': 554, '98': 555, 'feel': 556, 'pâte': 557, 'waiting': 558, 'undercurrent': 559, 'moves': 560, 'winner': 561, 'when': 562, 'fully': 563, 'strong': 564, 'touches': 565, '50': 566, '16': 567, 'though': 568, 'lend': 569, 'sense': 570, 'tightness': 571, 'persistent': 572, '342': 573, '275': 574, 'mulled': 575, 'garnacha': 576, 'lanolin': 577, 'footed': 578, '310': 579, 'fleshy': 580, 'matched': 581, 'marries': 582, 'international': 583, 'rustic': 584, 'thick': 585, 'balsamic': 586, 'soy': 587, 'sauce': 588, 'seamless': 589, 'delicate': 590, 'beauty': 591, 'open': 592, 'gracefully': 593, '064': 594, 'density': 595, 'polish': 596, '146': 597, 'mustard': 598, 'flower': 599, 'mixed': 600, 'rounded': 601, 'waxy': 602, 'ending': 603, 'flash': 604, 'macerated': 605, 'zest': 606, 'other': 607, 'profound': 608, 'balancing': 609, 'heather': 610, 'picks': 611, 'adding': 612, 'interesting': 613, '009': 614, 'pine': 615, '30': 616, 'shaded': 617, 'petrol': 618, 'tuscan': 619, 'scrub': 620, 'integrate': 621, 'dynamic': 622, 'dusky': 623, '210': 624, 'brawny': 625, 'framing': 626, 'monastrell': 627, 'exhibits': 628, 'underlying': 629, 'herbs': 630, 'canaiolo': 631, 'mammolo': 632, 'colorino': 633, 'torque': 634, 'multilayered': 635, 'rock': 636, 'chewy': 637, 'backdrop': 638, 'date': 639, 'tomato': 640, '560': 641, 'sumptuous': 642, 'yeast': 643, 'roll': 644, 'nut': 645, 'taking': 646, 'steely': 647, 'aroma': 648, '88': 649, '540': 650, '793': 651, 'luscious': 652, 'flanked': 653, 'buttery': 654, 'plushness': 655, 'honeyed': 656, '17': 657, 'compact': 658, \"region's\": 659, 'signature': 660, 'herbal': 661, 'rosemary': 662, 'effortlessly': 663, 'does': 664, 'seamlessness': 665, 'velvety': 666, 'high': 667, 'toned': 668, 'etched': 669, 'exhibiting': 670, '460': 671, 'chianti': 672, 'classico': 673, 'boasts': 674, 'woodsy': 675, 'sinewy': 676, 'flexing': 677, 'or': 678, 'little': 679, 'bottle': 680, 'help': 681, '450': 682, 'melon': 683, 'drop': 684, '25': 685, 'contoured': 686, 'ferrous': 687, '801': 688, 'searing': 689, 'flows': 690, 'behind': 691, 'glazed': 692, 'blanched': 693, 'echoing': 694, 'gets': 695, 'tight': 696, 'going': 697, 'could': 698, 'work': 699, 'better': 700, 'wait': 701, 'knockout': 702, 'dry': 703, 'creek': 704, 'zin': 705, 'briary': 706, 'grilled': 707, 'cracked': 708, 'shouldered': 709, 'bursting': 710, 'gattinara': 711, 'evokes': 712, 'hip': 713, '180': 714, 'rusty': 715, 'color': 716, 'announces': 717, 'typical': 718, 'rosé': 719, 'plenty': 720, 'iodine': 721, 'unique': 722, 'garnacho': 723, 'viura': 724, '166': 725, 'explosively': 726, 'fruity': 727, 'starts': 728, 'sunbaked': 729, 'form': 730, 'there': 731, 'threads': 732, 'line': 733, 'drips': 734, 'seductively': 735, 'slow': 736, 'burn': 737, '2042': 738, '833': 739, 'rendition': 740, 'mountain': 741, 'smoldering': 742, 'detail': 743, '2017': 744, '29': 745, 'fleur': 746, 'sel': 747, 'underscoring': 748, 'tailored': 749, 'knitting': 750, 'saturated': 751, 'pomegranate': 752, 'montepulciano': 753, 'atypical': 754, 'gorgeous': 755, 'orchard': 756, 'elderflower': 757, 'opens': 758, 'then': 759, 'shifts': 760, 'gears': 761, 'increasingly': 762, '12': 763, 'basil': 764, '434': 765, 'mirabelle': 766, 'champagne': 767, 'detailed': 768, 'chalk': 769, 'november': 770, '930': 771, 'refreshing': 772, 'candy': 773, '55': 774, 'winey': 775, 'fruitcake': 776, 'copious': 777, 'easily': 778, 'lengthy': 779, 'cinsault': 780, 'counoise': 781, '2020': 782, 'sparkle': 783, 'recedes': 784, 'airs': 785, 'leaving': 786, 'embers': 787, 'inflected': 788, 'sanguine': 789, 'lusciously': 790, 'both': 791, 'rapierlike': 792, 'acidic': 793, 'components': 794, 'range': 795, 'pink': 796, 'sorbet': 797, 'plus': 798, 'imparts': 799, 'tactile': 800, 'sensation': 801, 'beam': 802, 'soft': 803, 'lending': 804, 'big': 805, 'one': 806, 'would': 807, 'pair': 808, 'variety': 809, 'foods': 810, '074': 811, 'spry': 812, '14': 813, '980': 814, 'passionfruit': 815, 'transparency': 816, 'dragonwell': 817, 'peeks': 818, 'poached': 819, 'whiff': 820, 'game': 821, 'cava': 822, 'pastry': 823, 'firmly': 824, 'leaf–': 825, 'sports': 826, 'alongside': 827, 'chiseled': 828, 'ripped': 829, 'cellar': 830, 'clearly': 831, 'gliding': 832, 'gently': 833, 'so': 834, 'seductive': 835, 'miss': 836, 'sneaky': 837, 'promising': 838, 'cellaring': 839, 'potential': 840, 'pretty': 841, 'sea': 842, 'salt': 843, 'egg': 844, 'gooseberry': 845, 'flattering': 846, 'salted': 847, 'fan': 848, 'become': 849, 'plumper': 850, 'blanc': 851, 'sémillon': 852, 'gris': 853, '083': 854, 'thread': 855, 'underscores': 856, 'thyme': 857, 'sculpt': 858, 'glossy': 859, 'encase': 860, 'layers': 861, 'nice': 862, 'despite': 863, 'chiming': 864, 'kosher': 865, '24': 866, 'engaging': 867, 'flurry': 868, 'acacia': 869, 'quickly': 870, 'star': 871, 'inlay': 872, 'extra': 873, 'intrigue': 874, 'prominent': 875, 'mouthfeel': 876, 'coats': 877, 'invites': 878, 'back': 879, 'another': 880, 'sip': 881, 'cuts': 882, 'dovetail': 883, 'onto': 884, 'great': 885, 'throughout': 886, 'boasting': 887, 'meld': 888, '70': 889, 'seamlessly': 890, 'lead': 891, 'pencil': 892, 'packs': 893, 'bramble': 894, 'harnessing': 895, 'keeping': 896, 'moving': 897, '13': 898, 'lots': 899, 'offset': 900, 'hops': 901, 'kumquat': 902, 'impart': 903, 'charm': 904, 'shaved': 905, 'oil': 906, '56': 907, 'delivers': 908, 'smoke': 909, 'undertones': 910, 'flanking': 911, 'moderate': 912, 'create': 913, 'laden': 914, 'warmed': 915, 'gains': 916, 'air': 917, 'maintains': 918, 'perfectly': 919, 'embedded': 920, '400': 921, 'bartlett': 922, 'flavor': 923, 'hallmarks': 924, 'linear': 925, 'stony': 926, 'woven': 927, '125': 928, 'subtly': 929, 'perfumed': 930, 'nose': 931, 'draws': 932, 'await': 933, 'huckleberry': 934, 'never': 935, 'get': 936, 'firming': 937, 'brisk': 938, 'pierced': 939, 'persistence': 940, 'mulberry': 941, 'herbed': 942, 'bergamot': 943, 'combines': 944, 'grace': 945, 'harmonize': 946, 'intriguingly': 947, 'blaufränkisch': 948, 'zweigelt': 949, 'pinot': 950, 'noir': 951}\n",
      "952\n"
     ]
    }
   ],
   "source": [
    "tokenizer.fit_on_texts(corpus)\n",
    "total_words = len(tokenizer.word_index) + 1\n",
    "\n",
    "print(tokenizer.word_index)\n",
    "print(total_words)"
   ]
  },
  {
   "cell_type": "code",
   "execution_count": 8,
   "id": "d404db37",
   "metadata": {
    "scrolled": true
   },
   "outputs": [],
   "source": [
    "input_sequences = []\n",
    "for line in corpus:\n",
    "    token_list = tokenizer.texts_to_sequences([line])[0]\n",
    "    for i in range(1, len(token_list)):\n",
    "        n_gram_sequence = token_list[:i+1]\n",
    "        input_sequences.append(n_gram_sequence)\n",
    "\n",
    "# pad sequences \n",
    "max_sequence_len = max([len(x) for x in input_sequences])\n",
    "input_sequences = np.array(pad_sequences(input_sequences, maxlen=max_sequence_len, padding='pre'))\n",
    "\n",
    "# create predictors and label\n",
    "xs, labels = input_sequences[:,:-1],input_sequences[:,-1]\n",
    "\n",
    "ys = tf.keras.utils.to_categorical(labels, num_classes=total_words)"
   ]
  },
  {
   "cell_type": "code",
   "execution_count": 9,
   "id": "cbc08f64",
   "metadata": {
    "scrolled": true
   },
   "outputs": [
    {
     "name": "stdout",
     "output_type": "stream",
     "text": [
      "Epoch 1/20\n",
      "201/201 [==============================] - 1506s 7s/step - loss: 2.5098 - accuracy: 0.5160\n",
      "\n",
      "Epoch 00001: saving model to /model_1/checkpoints\\model_1.cpkt\n"
     ]
    },
    {
     "name": "stderr",
     "output_type": "stream",
     "text": [
      "WARNING:absl:Found untraced functions such as lstm_cell_1_layer_call_fn, lstm_cell_1_layer_call_and_return_conditional_losses, lstm_cell_2_layer_call_fn, lstm_cell_2_layer_call_and_return_conditional_losses, lstm_cell_4_layer_call_fn while saving (showing 5 of 20). These functions will not be directly callable after loading.\n"
     ]
    },
    {
     "name": "stdout",
     "output_type": "stream",
     "text": [
      "INFO:tensorflow:Assets written to: /model_1/checkpoints\\model_1.cpkt\\assets\n"
     ]
    },
    {
     "name": "stderr",
     "output_type": "stream",
     "text": [
      "INFO:tensorflow:Assets written to: /model_1/checkpoints\\model_1.cpkt\\assets\n"
     ]
    },
    {
     "name": "stdout",
     "output_type": "stream",
     "text": [
      "Epoch 2/20\n",
      "201/201 [==============================] - 1812s 9s/step - loss: 0.1116 - accuracy: 0.9813\n",
      "\n",
      "Epoch 00002: saving model to /model_1/checkpoints\\model_1.cpkt\n"
     ]
    },
    {
     "name": "stderr",
     "output_type": "stream",
     "text": [
      "WARNING:absl:Found untraced functions such as lstm_cell_1_layer_call_fn, lstm_cell_1_layer_call_and_return_conditional_losses, lstm_cell_2_layer_call_fn, lstm_cell_2_layer_call_and_return_conditional_losses, lstm_cell_4_layer_call_fn while saving (showing 5 of 20). These functions will not be directly callable after loading.\n"
     ]
    },
    {
     "name": "stdout",
     "output_type": "stream",
     "text": [
      "INFO:tensorflow:Assets written to: /model_1/checkpoints\\model_1.cpkt\\assets\n"
     ]
    },
    {
     "name": "stderr",
     "output_type": "stream",
     "text": [
      "INFO:tensorflow:Assets written to: /model_1/checkpoints\\model_1.cpkt\\assets\n"
     ]
    },
    {
     "name": "stdout",
     "output_type": "stream",
     "text": [
      "Epoch 3/20\n",
      "201/201 [==============================] - 1973s 10s/step - loss: 0.0383 - accuracy: 0.9895\n",
      "\n",
      "Epoch 00003: saving model to /model_1/checkpoints\\model_1.cpkt\n"
     ]
    },
    {
     "name": "stderr",
     "output_type": "stream",
     "text": [
      "WARNING:absl:Found untraced functions such as lstm_cell_1_layer_call_fn, lstm_cell_1_layer_call_and_return_conditional_losses, lstm_cell_2_layer_call_fn, lstm_cell_2_layer_call_and_return_conditional_losses, lstm_cell_4_layer_call_fn while saving (showing 5 of 20). These functions will not be directly callable after loading.\n"
     ]
    },
    {
     "name": "stdout",
     "output_type": "stream",
     "text": [
      "INFO:tensorflow:Assets written to: /model_1/checkpoints\\model_1.cpkt\\assets\n"
     ]
    },
    {
     "name": "stderr",
     "output_type": "stream",
     "text": [
      "INFO:tensorflow:Assets written to: /model_1/checkpoints\\model_1.cpkt\\assets\n"
     ]
    },
    {
     "name": "stdout",
     "output_type": "stream",
     "text": [
      "Epoch 4/20\n",
      "201/201 [==============================] - 1848s 9s/step - loss: 0.0334 - accuracy: 0.9895\n",
      "\n",
      "Epoch 00004: saving model to /model_1/checkpoints\\model_1.cpkt\n"
     ]
    },
    {
     "name": "stderr",
     "output_type": "stream",
     "text": [
      "WARNING:absl:Found untraced functions such as lstm_cell_1_layer_call_fn, lstm_cell_1_layer_call_and_return_conditional_losses, lstm_cell_2_layer_call_fn, lstm_cell_2_layer_call_and_return_conditional_losses, lstm_cell_4_layer_call_fn while saving (showing 5 of 20). These functions will not be directly callable after loading.\n"
     ]
    },
    {
     "name": "stdout",
     "output_type": "stream",
     "text": [
      "INFO:tensorflow:Assets written to: /model_1/checkpoints\\model_1.cpkt\\assets\n"
     ]
    },
    {
     "name": "stderr",
     "output_type": "stream",
     "text": [
      "INFO:tensorflow:Assets written to: /model_1/checkpoints\\model_1.cpkt\\assets\n"
     ]
    },
    {
     "name": "stdout",
     "output_type": "stream",
     "text": [
      "Epoch 5/20\n",
      "201/201 [==============================] - 1800s 9s/step - loss: 0.0322 - accuracy: 0.9896\n",
      "\n",
      "Epoch 00005: saving model to /model_1/checkpoints\\model_1.cpkt\n"
     ]
    },
    {
     "name": "stderr",
     "output_type": "stream",
     "text": [
      "WARNING:absl:Found untraced functions such as lstm_cell_1_layer_call_fn, lstm_cell_1_layer_call_and_return_conditional_losses, lstm_cell_2_layer_call_fn, lstm_cell_2_layer_call_and_return_conditional_losses, lstm_cell_4_layer_call_fn while saving (showing 5 of 20). These functions will not be directly callable after loading.\n"
     ]
    },
    {
     "name": "stdout",
     "output_type": "stream",
     "text": [
      "INFO:tensorflow:Assets written to: /model_1/checkpoints\\model_1.cpkt\\assets\n"
     ]
    },
    {
     "name": "stderr",
     "output_type": "stream",
     "text": [
      "INFO:tensorflow:Assets written to: /model_1/checkpoints\\model_1.cpkt\\assets\n"
     ]
    },
    {
     "name": "stdout",
     "output_type": "stream",
     "text": [
      "Epoch 6/20\n",
      "201/201 [==============================] - 1798s 9s/step - loss: 0.0308 - accuracy: 0.9895\n",
      "\n",
      "Epoch 00006: saving model to /model_1/checkpoints\\model_1.cpkt\n"
     ]
    },
    {
     "name": "stderr",
     "output_type": "stream",
     "text": [
      "WARNING:absl:Found untraced functions such as lstm_cell_1_layer_call_fn, lstm_cell_1_layer_call_and_return_conditional_losses, lstm_cell_2_layer_call_fn, lstm_cell_2_layer_call_and_return_conditional_losses, lstm_cell_4_layer_call_fn while saving (showing 5 of 20). These functions will not be directly callable after loading.\n"
     ]
    },
    {
     "name": "stdout",
     "output_type": "stream",
     "text": [
      "INFO:tensorflow:Assets written to: /model_1/checkpoints\\model_1.cpkt\\assets\n"
     ]
    },
    {
     "name": "stderr",
     "output_type": "stream",
     "text": [
      "INFO:tensorflow:Assets written to: /model_1/checkpoints\\model_1.cpkt\\assets\n"
     ]
    },
    {
     "name": "stdout",
     "output_type": "stream",
     "text": [
      "Epoch 7/20\n",
      "201/201 [==============================] - 1777s 9s/step - loss: 0.0304 - accuracy: 0.9896\n",
      "\n",
      "Epoch 00007: saving model to /model_1/checkpoints\\model_1.cpkt\n"
     ]
    },
    {
     "name": "stderr",
     "output_type": "stream",
     "text": [
      "WARNING:absl:Found untraced functions such as lstm_cell_1_layer_call_fn, lstm_cell_1_layer_call_and_return_conditional_losses, lstm_cell_2_layer_call_fn, lstm_cell_2_layer_call_and_return_conditional_losses, lstm_cell_4_layer_call_fn while saving (showing 5 of 20). These functions will not be directly callable after loading.\n"
     ]
    },
    {
     "name": "stdout",
     "output_type": "stream",
     "text": [
      "INFO:tensorflow:Assets written to: /model_1/checkpoints\\model_1.cpkt\\assets\n"
     ]
    },
    {
     "name": "stderr",
     "output_type": "stream",
     "text": [
      "INFO:tensorflow:Assets written to: /model_1/checkpoints\\model_1.cpkt\\assets\n"
     ]
    },
    {
     "name": "stdout",
     "output_type": "stream",
     "text": [
      "Epoch 8/20\n",
      "201/201 [==============================] - 2320s 12s/step - loss: 0.0302 - accuracy: 0.9895\n",
      "\n",
      "Epoch 00008: saving model to /model_1/checkpoints\\model_1.cpkt\n"
     ]
    },
    {
     "name": "stderr",
     "output_type": "stream",
     "text": [
      "WARNING:absl:Found untraced functions such as lstm_cell_1_layer_call_fn, lstm_cell_1_layer_call_and_return_conditional_losses, lstm_cell_2_layer_call_fn, lstm_cell_2_layer_call_and_return_conditional_losses, lstm_cell_4_layer_call_fn while saving (showing 5 of 20). These functions will not be directly callable after loading.\n"
     ]
    },
    {
     "name": "stdout",
     "output_type": "stream",
     "text": [
      "INFO:tensorflow:Assets written to: /model_1/checkpoints\\model_1.cpkt\\assets\n"
     ]
    },
    {
     "name": "stderr",
     "output_type": "stream",
     "text": [
      "INFO:tensorflow:Assets written to: /model_1/checkpoints\\model_1.cpkt\\assets\n"
     ]
    },
    {
     "name": "stdout",
     "output_type": "stream",
     "text": [
      "Epoch 9/20\n",
      "201/201 [==============================] - 2053s 10s/step - loss: 0.0298 - accuracy: 0.9895\n",
      "\n",
      "Epoch 00009: saving model to /model_1/checkpoints\\model_1.cpkt\n"
     ]
    },
    {
     "name": "stderr",
     "output_type": "stream",
     "text": [
      "WARNING:absl:Found untraced functions such as lstm_cell_1_layer_call_fn, lstm_cell_1_layer_call_and_return_conditional_losses, lstm_cell_2_layer_call_fn, lstm_cell_2_layer_call_and_return_conditional_losses, lstm_cell_4_layer_call_fn while saving (showing 5 of 20). These functions will not be directly callable after loading.\n"
     ]
    },
    {
     "name": "stdout",
     "output_type": "stream",
     "text": [
      "INFO:tensorflow:Assets written to: /model_1/checkpoints\\model_1.cpkt\\assets\n"
     ]
    },
    {
     "name": "stderr",
     "output_type": "stream",
     "text": [
      "INFO:tensorflow:Assets written to: /model_1/checkpoints\\model_1.cpkt\\assets\n"
     ]
    },
    {
     "name": "stdout",
     "output_type": "stream",
     "text": [
      "Epoch 10/20\n",
      "201/201 [==============================] - 2081s 10s/step - loss: 0.0297 - accuracy: 0.9894\n",
      "\n",
      "Epoch 00010: saving model to /model_1/checkpoints\\model_1.cpkt\n"
     ]
    },
    {
     "name": "stderr",
     "output_type": "stream",
     "text": [
      "WARNING:absl:Found untraced functions such as lstm_cell_1_layer_call_fn, lstm_cell_1_layer_call_and_return_conditional_losses, lstm_cell_2_layer_call_fn, lstm_cell_2_layer_call_and_return_conditional_losses, lstm_cell_4_layer_call_fn while saving (showing 5 of 20). These functions will not be directly callable after loading.\n"
     ]
    },
    {
     "name": "stdout",
     "output_type": "stream",
     "text": [
      "INFO:tensorflow:Assets written to: /model_1/checkpoints\\model_1.cpkt\\assets\n"
     ]
    },
    {
     "name": "stderr",
     "output_type": "stream",
     "text": [
      "INFO:tensorflow:Assets written to: /model_1/checkpoints\\model_1.cpkt\\assets\n"
     ]
    },
    {
     "name": "stdout",
     "output_type": "stream",
     "text": [
      "<keras.engine.sequential.Sequential object at 0x0000028F88217E08>\n"
     ]
    }
   ],
   "source": [
    "n_epochs = 20\n",
    "\n",
    "model = Sequential()\n",
    "model.add(Embedding(total_words, 2500, input_length=max_sequence_len-1))\n",
    "model.add(Bidirectional(LSTM(150, return_sequences = True)))\n",
    "model.add(Bidirectional(LSTM(150)))\n",
    "model.add(Dense(total_words, activation='softmax'))\n",
    "adam = Adam(learning_rate=0.01)\n",
    "model.compile(loss='categorical_crossentropy', optimizer=adam, metrics=['accuracy'])\n",
    "\n",
    "checkpoint_path = \"/model_1/checkpoints/model_1.cpkt\"\n",
    "\n",
    "earlystop = EarlyStopping(monitor='accuracy', min_delta=0, patience=5, verbose=0, mode='auto')\n",
    "checkpoints = ModelCheckpoint(\n",
    "    filepath=checkpoint_path, monitor='accuracy', verbose=1, save_best_only=False,\n",
    "    save_weights_only=False, mode='auto', save_freq='epoch',\n",
    ")\n",
    "\n",
    "history = model.fit(\n",
    "    xs, \n",
    "    ys, \n",
    "    epochs=n_epochs, \n",
    "    verbose=1,\n",
    "    callbacks = [earlystop, checkpoints],\n",
    "    batch_size = 512\n",
    ")\n",
    "\n",
    "#print model.summary()\n",
    "print(model)"
   ]
  },
  {
   "cell_type": "code",
   "execution_count": 10,
   "id": "93615c91",
   "metadata": {},
   "outputs": [
    {
     "name": "stdout",
     "output_type": "stream",
     "text": [
      "('You must install pydot (`pip install pydot`) and install graphviz (see instructions at https://graphviz.gitlab.io/download/) ', 'for plot_model/model_to_dot to work.')\n"
     ]
    }
   ],
   "source": [
    "tf.keras.utils.plot_model(model)"
   ]
  },
  {
   "cell_type": "code",
   "execution_count": 11,
   "id": "c7aa62a7",
   "metadata": {},
   "outputs": [],
   "source": [
    "def plot_graphs(history, string):\n",
    "    plt.plot(history.history[string])\n",
    "    plt.xlabel(\"Epochs\")\n",
    "    plt.ylabel(string)\n",
    "    plt.show()"
   ]
  },
  {
   "cell_type": "code",
   "execution_count": 12,
   "id": "4ebe04bd",
   "metadata": {},
   "outputs": [
    {
     "data": {
      "image/png": "[encoded data removed]",
      "text/plain": [
       "<Figure size 432x288 with 1 Axes>"
      ]
     },
     "metadata": {
      "needs_background": "light"
     },
     "output_type": "display_data"
    },
    {
     "data": {
      "image/png": "[encoded data removed]",
      "text/plain": [
       "<Figure size 432x288 with 1 Axes>"
      ]
     },
     "metadata": {
      "needs_background": "light"
     },
     "output_type": "display_data"
    }
   ],
   "source": [
    "plot_graphs(history, 'accuracy')\n",
    "plot_graphs(history, 'loss')"
   ]
  },
  {
   "cell_type": "code",
   "execution_count": 15,
   "id": "a1386ccd",
   "metadata": {},
   "outputs": [
    {
     "data": {
      "text/plain": [
       "[[8]]"
      ]
     },
     "execution_count": 15,
     "metadata": {},
     "output_type": "execute_result"
    }
   ],
   "source": [
    "tokenizer.texts_to_sequences(['<end>'])"
   ]
  },
  {
   "cell_type": "code",
   "execution_count": 17,
   "id": "44e4319c",
   "metadata": {},
   "outputs": [],
   "source": [
    "def tasting_note(seed_text, length):\n",
    "    last_word = \" \"\n",
    "    for _ in range(length):\n",
    "        token_list = tokenizer.texts_to_sequences([seed_text])[0]\n",
    "        token_list = pad_sequences([token_list], maxlen=max_sequence_len-1, padding='pre')\n",
    "        predict_x=model.predict(token_list)\n",
    "        classes_x=np.argmax(predict_x,axis=-1)\n",
    "        for word, index in tokenizer.word_index.items():\n",
    "            if index == classes_x:\n",
    "                output_word = word\n",
    "                break\n",
    "        if index == 8:\n",
    "            break\n",
    "        seed_text += \" \" + output_word\n",
    "    return seed_text"
   ]
  },
  {
   "cell_type": "code",
   "execution_count": 18,
   "id": "9334234d",
   "metadata": {},
   "outputs": [
    {
     "data": {
      "text/plain": [
       "'Aromatic and beautiful harmonious with black tea notes that are in good harmony supported by light tannins and prominent acidity offers a beautiful mouthfeel that coats the palate and invites you back for another sip drink now through 2027 500 cases imported'"
      ]
     },
     "execution_count": 18,
     "metadata": {},
     "output_type": "execute_result"
    }
   ],
   "source": [
    "tasting_note('Aromatic', 50)"
   ]
  },
  {
   "cell_type": "code",
   "execution_count": 19,
   "id": "473f16e8",
   "metadata": {},
   "outputs": [
    {
     "data": {
      "text/plain": [
       "'Lush ripe style with açaí berry blueberry and plum reduction notes giving this a slightly exotic bent while singed bay leaf worn leather and warm tar accents keep this grounded in a slightly old school way displays ample heft yet energy ripples through the finish accompanied by lingering garrigue and tobacco'"
      ]
     },
     "execution_count": 19,
     "metadata": {},
     "output_type": "execute_result"
    }
   ],
   "source": [
    "tasting_note('Lush', 50)"
   ]
  },
  {
   "cell_type": "code",
   "execution_count": 20,
   "id": "9deeea71",
   "metadata": {},
   "outputs": [
    {
     "data": {
      "text/plain": [
       "'Red Wine with structure and presence buoyed by a complex backbone of minerality wrapped in refined dark cherry and black tea flavors and finishing with fine grained tannins best from 2021 through 2029 6 550 cases made'"
      ]
     },
     "execution_count": 20,
     "metadata": {},
     "output_type": "execute_result"
    }
   ],
   "source": [
    "tasting_note('Red Wine', 50)"
   ]
  },
  {
   "cell_type": "code",
   "execution_count": 21,
   "id": "9b718c04",
   "metadata": {},
   "outputs": [
    {
     "data": {
      "text/plain": [
       "'Wine with structure and presence buoyed by a complex backbone of minerality wrapped in refined dark cherry and black tea flavors and finishing with fine grained tannins best from 2021 through 2029 6 550 cases made'"
      ]
     },
     "execution_count": 21,
     "metadata": {},
     "output_type": "execute_result"
    }
   ],
   "source": [
    "tasting_note('Wine', 50)"
   ]
  },
  {
   "cell_type": "code",
   "execution_count": 22,
   "id": "e57e5346",
   "metadata": {},
   "outputs": [
    {
     "data": {
      "text/plain": [
       "'Keyboard and elegantly rich with a vibrant backbone of polished tannins and bright acidity wrapped in expressive raspberry and orange zest flavors with sandalwood and other zesty spice notes drink now through 2026 18 000 cases made'"
      ]
     },
     "execution_count": 22,
     "metadata": {},
     "output_type": "execute_result"
    }
   ],
   "source": [
    "tasting_note('Keyboard', 50)"
   ]
  },
  {
   "cell_type": "code",
   "execution_count": 23,
   "id": "80e95ce7",
   "metadata": {},
   "outputs": [
    {
     "data": {
      "text/plain": [
       "'Bukit Pasoh and elegantly rich with a vibrant backbone of polished tannins and bright acidity wrapped in expressive raspberry and orange zest flavors with sandalwood and other zesty spice notes drink now through 2026 18 000 cases made'"
      ]
     },
     "execution_count": 23,
     "metadata": {},
     "output_type": "execute_result"
    }
   ],
   "source": [
    "tasting_note('Bukit Pasoh', 50)"
   ]
  },
  {
   "cell_type": "code",
   "execution_count": 24,
   "id": "44567471",
   "metadata": {},
   "outputs": [],
   "source": [
    "model.save('model_1.h5')"
   ]
  },
  {
   "cell_type": "code",
   "execution_count": 25,
   "id": "5aa2a9ba",
   "metadata": {},
   "outputs": [],
   "source": [
    "model = tf.keras.models.load_model('model_1.h5')\n",
    "max_sequence_len = 72"
   ]
  },
  {
   "cell_type": "code",
   "execution_count": 26,
   "id": "cb387d1d",
   "metadata": {},
   "outputs": [
    {
     "name": "stdout",
     "output_type": "stream",
     "text": [
      "Model: \"sequential\"\n",
      "_________________________________________________________________\n",
      "Layer (type)                 Output Shape              Param #   \n",
      "=================================================================\n",
      "embedding (Embedding)        (None, 72, 2500)          2380000   \n",
      "_________________________________________________________________\n",
      "bidirectional (Bidirectional (None, 72, 300)           3181200   \n",
      "_________________________________________________________________\n",
      "bidirectional_1 (Bidirection (None, 300)               541200    \n",
      "_________________________________________________________________\n",
      "dense (Dense)                (None, 952)               286552    \n",
      "=================================================================\n",
      "Total params: 6,388,952\n",
      "Trainable params: 6,388,952\n",
      "Non-trainable params: 0\n",
      "_________________________________________________________________\n"
     ]
    }
   ],
   "source": [
    "model.summary()"
   ]
  },
  {
   "cell_type": "code",
   "execution_count": null,
   "id": "7982b1c7",
   "metadata": {},
   "outputs": [],
   "source": []
  },
  {
   "cell_type": "code",
   "execution_count": null,
   "id": "466dc263",
   "metadata": {},
   "outputs": [],
   "source": []
  }
 ],
 "metadata": {
  "kernelspec": {
   "display_name": "Python 3 (ipykernel)",
   "language": "python",
   "name": "python3"
  },
  "language_info": {
   "codemirror_mode": {
    "name": "ipython",
    "version": 3
   },
   "file_extension": ".py",
   "mimetype": "text/x-python",
   "name": "python",
   "nbconvert_exporter": "python",
   "pygments_lexer": "ipython3",
   "version": "3.7.11"
  },
  "toc": {
   "base_numbering": 1,
   "nav_menu": {},
   "number_sections": true,
   "sideBar": true,
   "skip_h1_title": false,
   "title_cell": "Table of Contents",
   "title_sidebar": "Contents",
   "toc_cell": false,
   "toc_position": {},
   "toc_section_display": true,
   "toc_window_display": false
  }
 },
 "nbformat": 4,
 "nbformat_minor": 5
}
