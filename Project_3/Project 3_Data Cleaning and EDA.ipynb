{
 "cells": [
  {
   "cell_type": "markdown",
   "id": "dab7ac6f",
   "metadata": {},
   "source": [
    "# Reddit NLP Data Cleaning & EDA"
   ]
  },
  {
   "cell_type": "markdown",
   "id": "1af067f1",
   "metadata": {},
   "source": [
    "## Overview"
   ]
  },
  {
   "cell_type": "markdown",
   "id": "242354cb",
   "metadata": {},
   "source": [
    "Financial scams in Singapore have seen increases in the recent years, especially as more and more transactions migrate online. In 2020, cases reported rose <a href= 'https://www.channelnewsasia.com/singapore/more-than-201-million-cheated-top-10-scam-types-2020-police-339081'>65.1% up to 15,756 total cases, from 9,545 cases in the previous year</a>. With cyber crime on the rise and <a href= 'https://www.acfe.com/fraud-examiner.aspx?id=4294997223'>elderly individuals being the most frequent target</a>, there is an onus to try to protect them as much as possible. "
   ]
  },
  {
   "cell_type": "markdown",
   "id": "f56630c4",
   "metadata": {},
   "source": [
    "A division of our Government, Classifying Spam Agency of Singapore, wants to work with us to try to develop a filter that specifically targets financial updates. Their issue is two fold:\n",
    "\n",
    "-  The recent rise in the multitude of online opinions on the best financial investments, such as meme stocks, cryptocurrency\n",
    "-  The increase in mobile investment apps easing the path to investing, as well as allowing the masses access to such investing tools as options trading and leveraging\n",
    "\n",
    "This has led to an increase in the more vulnerable classes losing their life savings on uneducated and risky bets.\n",
    "\n",
    "The goal is to try to create a filter that can help label financial news for this division, CSA:\n",
    "1. To flag the type of news that comes out, if it involves trendy financial topics\n",
    "2. To help provide news that is still balanced and conservative to help educate the masses on investments in a gainful manner\n",
    "3. To prevent the topics of meme stocks, cryptocurrency, and such news from flooding the market and as a consequence, prevent scams related to such topics\n",
    "\n",
    "We will scrape two large, popular subreddits, r/personalfinance and r/wallstreetbets, with the aim of training a filter to flag posts that are too focused on trending financial news and flag them for review.\n",
    "\n",
    "## Model Considerations\n",
    "\n",
    "Due to the nature of the task and the model, we will be trying to reduce the number of type 2 II errors as much as possible. Allowing false positives through, mean that we will have to look over a few more posts/articles to ensure that they are inline with expectations.\n",
    "\n",
    "However, allowing false negatives through, may unduly influence more of the vulnerable classes into detrimental transactions, which is expressly what we are trying to prevent. Fixing these situations would be much more difficult and much costlier, and may even be impossible.\n",
    "\n",
    "Hence, for the purposes of this project, we will looks to maximise the Sensitivity over the Specificity.\n",
    "\n",
    "## Initial Hypothesis\n",
    "\n",
    "At first glance, these two subreddits are both financially related, and we would expect there to be a fairly comprehensive coverage of financial terms. However, the two do have very different crowds, particularly when considering only the posts that are being made, and not so much the comments.\n",
    "\n",
    "#### r/personalfinance \n",
    "- Posters here to be more beginners seeking financial help\n",
    "- Topics would tend to include issues more to do with daily life or saving for retirement:\n",
    "    - Individual Retirement Accounts (IRAs)\n",
    "    - Debt (House, cars,...)\n",
    "    - Budgeting\n",
    "    - Sudden Windfalls\n",
    "    \n",
    "#### r/wallstreetbets\n",
    "- Posters here tend to be people who are more in tune with current financial trends, even if they are not actually financially savvy\n",
    "- Posts tend to include topics related to stock market investing and feature many meme phrase, and will often be laser focused on the latest trends:\n",
    "    - Common stock tickers recently include: Gamestop(GME), AMC Theatres(AMC)\n",
    "    - Common trends in recent history include: Robinhood & investing as an individual, short selling & options trading\n",
    "    - They will also tend to regard investing with a shorter-term investment window (as opposed to til retirement for r/personal finance)\n",
    "    \n",
    "### Stop words\n",
    "Stopwords will initially include the names of the 2 subreddits, as well as various trending stock tickers and memes in wallstreetbets."
   ]
  },
  {
   "cell_type": "markdown",
   "id": "66ddafe2",
   "metadata": {},
   "source": [
    "### Contents\n",
    "- [Import Data](#Import-Data)\n",
    "- [Functions](#Functions)\n",
    "- [Data Cleaning & EDA](#Data-Cleaning-&-EDA)\n",
    "- [Saving Data for Model Testing](#Saving-Data-for-Model-Testing)"
   ]
  },
  {
   "cell_type": "markdown",
   "id": "b8865283",
   "metadata": {},
   "source": [
    "### Datsets\n",
    "\n",
    "* [`reddit.csv`](.reddit.csv): Raw Reddit data scraped and combined\n",
    "* [`reddit_clean.csv`](.reddit_clean.csv): Cleaned Reddit data for modelling"
   ]
  },
  {
   "cell_type": "markdown",
   "id": "775be7a1",
   "metadata": {},
   "source": [
    "### Data Dictionary\n",
    "\n",
    "|Feature|Type|Dataset|Description|\n",
    "|---|---|---|---|\n",
    "|**is_wallstreetbets**|*int*|reddit_clean|Whether the post is from wallstreetbets (1 for yes, 0 for no)|\n",
    "|**word_sum**|*object*|reddit_clean|All the words in the post (Title + selftext)|\n",
    "|**title**|*object*|reddit_clean|Title of the post|\n",
    "|**selftext**|*object*|reddit_clean|Body text of the subreddit post|\n",
    "|**words_clean**|*object*|reddit_clean|Tokenized words from the whole post in a single string|\n",
    "|**words_lem**|*object*|reddit_clean|Lemmatized words from the whole post in a single string|\n",
    "|**words_stem**|*object*|reddit_clean|Stemmed words from the whole post in a single string|\n",
    "|**word_count**|*int*|reddit_clean|Number of words in the title and selftext|"
   ]
  },
  {
   "cell_type": "markdown",
   "id": "b8fdb2b9",
   "metadata": {},
   "source": [
    "## Import Data"
   ]
  },
  {
   "cell_type": "code",
   "execution_count": 1,
   "id": "66651a41",
   "metadata": {},
   "outputs": [],
   "source": [
    "import numpy as np\n",
    "import pandas as pd\n",
    "import matplotlib.pyplot as plt\n",
    "import seaborn as sns\n",
    "\n",
    "import re\n",
    "\n",
    "from sklearn.model_selection import train_test_split, GridSearchCV\n",
    "from sklearn.pipeline import Pipeline\n",
    "from sklearn.naive_bayes import MultinomialNB\n",
    "from sklearn.linear_model import LogisticRegression\n",
    "from sklearn.metrics import confusion_matrix, plot_confusion_matrix\n",
    "# from sklearn.feature_extraction import text \n",
    "from sklearn.feature_extraction.text import CountVectorizer, TfidfVectorizer, ENGLISH_STOP_WORDS\n",
    "     \n",
    "from nltk.tokenize import sent_tokenize, word_tokenize, RegexpTokenizer\n",
    "from nltk.stem import WordNetLemmatizer\n",
    "from nltk.stem.porter import PorterStemmer\n",
    "from nltk.corpus import stopwords\n",
    "from nltk.sentiment.vader import SentimentIntensityAnalyzer\n",
    "\n",
    "\n",
    "plt.style.use('bmh')\n",
    "%matplotlib inline  "
   ]
  },
  {
   "cell_type": "code",
   "execution_count": 2,
   "id": "b2168dcc",
   "metadata": {},
   "outputs": [],
   "source": [
    "reddit = pd.read_csv('datasets/reddit.csv').drop(columns = ['Unnamed: 0', 'retrieved_on'])"
   ]
  },
  {
   "cell_type": "markdown",
   "id": "5131b1a8",
   "metadata": {},
   "source": [
    "## Functions"
   ]
  },
  {
   "cell_type": "code",
   "execution_count": 3,
   "id": "67b37fab",
   "metadata": {},
   "outputs": [],
   "source": [
    "\n",
    "def tokenize_str(words, lemm = False, stem = False):\n",
    "    '''This function tokenizes a string, removes any urls beginning with http, and then recombines\n",
    "    them into 1 string'''\n",
    "    lemmatizer = WordNetLemmatizer()     # Instantiate Lemmatizer\n",
    "    p_stemmer = PorterStemmer()          # Instantiate PorterStemmer\n",
    "    words_interm = re.sub(\n",
    "        r'https:\\/\\/preview.redd.it\\/\\w+.png\\?width=\\d+(\\s+\\w+=\\w+)+',\n",
    "        '', words)\n",
    "    clean_words = re.sub(\n",
    "        r'https?:\\/\\/(?:www2?\\.|(?!www2?))[a-zA-Z0-9][a-zA-Z0-9-]+[a-zA-Z0-9]\\.[^\\s]{2,}',\n",
    "        '', words_interm)\n",
    "    word_tokens = tokenizer.tokenize(clean_words)\n",
    "    \n",
    "    if lemm == True:                     # Lemmatise if true\n",
    "        word_tokens = [lemmatizer.lemmatize(word) for word in word_tokens]\n",
    "        \n",
    "    # Check for stop words here\n",
    "    \n",
    "    if stem == True:                     # Stem if true\n",
    "        word_tokens = [p_stemmer.stem(word) for word in word_tokens]\n",
    "        \n",
    "    return ' '.join(word_tokens)\n",
    "        \n",
    "\n",
    "def words_of_interest(vec, initial_word_list, suptitle, list_of_titles, fig_size):\n",
    "    '''function takes an instantiated feature extractor (countvectorizer) and:\n",
    "    1. creates a dataseries of words \n",
    "    2. returns the 25 most common and least common words in the dataseries\n",
    "    3. plots a bar plot of the 15 most and least commong words'''\n",
    "    converted_word_list = vec.fit_transform(initial_word_list)                        # Transforms dataseries\n",
    "    sum_words = converted_word_list.sum(axis=0)                                       # Sum along the column\n",
    "    words_freq = [(word, sum_words[0, idx]) for word, idx in vec.vocabulary_.items()] # List of tuples (word, freq)    \n",
    "    words_freq = sorted(words_freq, key = lambda x: x[1], reverse=True)               # Sorts list in descending order\n",
    "    word_pd = pd.DataFrame(\n",
    "        columns = ['word', 'frequency'],\n",
    "        data = words_freq\n",
    "    )\n",
    "    print(f'The top 25 most common terms are: \\n{words_freq[:25]}',\n",
    "          '\\n---------------\\n\\n',\n",
    "          f'The top 25 least common terms are: \\n{words_freq[:-25:-1]}',\n",
    "         '\\n---------------\\n')\n",
    "    \n",
    "    fig, axs = plt.subplots(1, 2, figsize = fig_size)\n",
    "    fig.suptitle(suptitle, fontsize = 18)\n",
    "    fig.tight_layout(pad = 0, w_pad = 8.0, h_pad = 1.0 , rect = [0, 0, 1, 0.95]) \n",
    "    \n",
    "    axs[0].set_title(list_of_titles[0], fontsize = 12)\n",
    "    sns.barplot(\n",
    "        ax = axs[0],\n",
    "        y = 'word',\n",
    "        x = 'frequency',\n",
    "        palette = 'dark:blue',\n",
    "        data = word_pd.head(15)\n",
    "    )\n",
    "    \n",
    "    axs[1].set_title(list_of_titles[1], fontsize = 12)\n",
    "    sns.barplot(\n",
    "        ax = axs[1],\n",
    "        y = 'word',\n",
    "        x = 'frequency',\n",
    "        palette = 'light:blue',\n",
    "        data = word_pd.tail(15)\n",
    "    )"
   ]
  },
  {
   "cell_type": "code",
   "execution_count": 4,
   "id": "375cf287",
   "metadata": {},
   "outputs": [],
   "source": [
    "# Including various subreddit related terms in the stopwords\n",
    "\n",
    "stop_words = frozenset(['personalfinance', 'personal', 'finance', 'wallstreetbets', 'bets', 'wallstreet', 'wsb',\n",
    "                        'wall street', 'gme', 'gamestop', 'game stop', 'amc', 'amc entertainment', 'tmc', 'ast',\n",
    "                        'robinhood'])\n",
    "\n",
    "english_stop_words = ENGLISH_STOP_WORDS.union(stop_words)"
   ]
  },
  {
   "cell_type": "markdown",
   "id": "2a15ae39",
   "metadata": {},
   "source": [
    "## Data Cleaning & EDA"
   ]
  },
  {
   "cell_type": "code",
   "execution_count": 5,
   "id": "e56b2e1c",
   "metadata": {},
   "outputs": [
    {
     "name": "stdout",
     "output_type": "stream",
     "text": [
      "<class 'pandas.core.frame.DataFrame'>\n",
      "RangeIndex: 8580 entries, 0 to 8579\n",
      "Data columns (total 3 columns):\n",
      " #   Column     Non-Null Count  Dtype \n",
      "---  ------     --------------  ----- \n",
      " 0   subreddit  8580 non-null   object\n",
      " 1   title      8580 non-null   object\n",
      " 2   selftext   5622 non-null   object\n",
      "dtypes: object(3)\n",
      "memory usage: 201.2+ KB\n"
     ]
    }
   ],
   "source": [
    "reddit.info()"
   ]
  },
  {
   "cell_type": "code",
   "execution_count": 6,
   "id": "00a62ab4",
   "metadata": {},
   "outputs": [
    {
     "data": {
      "text/plain": [
       "subreddit       0\n",
       "title           0\n",
       "selftext     2958\n",
       "dtype: int64"
      ]
     },
     "execution_count": 6,
     "metadata": {},
     "output_type": "execute_result"
    }
   ],
   "source": [
    "reddit.isna().sum()"
   ]
  },
  {
   "cell_type": "code",
   "execution_count": 7,
   "id": "d11056c3",
   "metadata": {},
   "outputs": [],
   "source": [
    "# Changing data to lowercase\n",
    "for col in reddit.columns:\n",
    "    reddit[col] = reddit[col].str.lower()"
   ]
  },
  {
   "cell_type": "code",
   "execution_count": 8,
   "id": "b6e925cf",
   "metadata": {},
   "outputs": [
    {
     "data": {
      "text/html": [
       "<div>\n",
       "<style scoped>\n",
       "    .dataframe tbody tr th:only-of-type {\n",
       "        vertical-align: middle;\n",
       "    }\n",
       "\n",
       "    .dataframe tbody tr th {\n",
       "        vertical-align: top;\n",
       "    }\n",
       "\n",
       "    .dataframe thead th {\n",
       "        text-align: right;\n",
       "    }\n",
       "</style>\n",
       "<table border=\"1\" class=\"dataframe\">\n",
       "  <thead>\n",
       "    <tr style=\"text-align: right;\">\n",
       "      <th></th>\n",
       "      <th>title</th>\n",
       "      <th>selftext</th>\n",
       "    </tr>\n",
       "    <tr>\n",
       "      <th>subreddit</th>\n",
       "      <th></th>\n",
       "      <th></th>\n",
       "    </tr>\n",
       "  </thead>\n",
       "  <tbody>\n",
       "    <tr>\n",
       "      <th>personalfinance</th>\n",
       "      <td>545</td>\n",
       "      <td>545</td>\n",
       "    </tr>\n",
       "    <tr>\n",
       "      <th>wallstreetbets</th>\n",
       "      <td>1278</td>\n",
       "      <td>1278</td>\n",
       "    </tr>\n",
       "  </tbody>\n",
       "</table>\n",
       "</div>"
      ],
      "text/plain": [
       "                 title  selftext\n",
       "subreddit                       \n",
       "personalfinance    545       545\n",
       "wallstreetbets    1278      1278"
      ]
     },
     "execution_count": 8,
     "metadata": {},
     "output_type": "execute_result"
    }
   ],
   "source": [
    "# Checking for removed posts\n",
    "reddit.loc[(reddit['title'] == '[removed]') |\n",
    "           (reddit['selftext'] == '[removed]'),\n",
    ":].groupby('subreddit').agg('count')"
   ]
  },
  {
   "cell_type": "code",
   "execution_count": 9,
   "id": "b4b0b970",
   "metadata": {},
   "outputs": [
    {
     "data": {
      "text/html": [
       "<div>\n",
       "<style scoped>\n",
       "    .dataframe tbody tr th:only-of-type {\n",
       "        vertical-align: middle;\n",
       "    }\n",
       "\n",
       "    .dataframe tbody tr th {\n",
       "        vertical-align: top;\n",
       "    }\n",
       "\n",
       "    .dataframe thead th {\n",
       "        text-align: right;\n",
       "    }\n",
       "</style>\n",
       "<table border=\"1\" class=\"dataframe\">\n",
       "  <thead>\n",
       "    <tr style=\"text-align: right;\">\n",
       "      <th></th>\n",
       "      <th>subreddit</th>\n",
       "      <th>title</th>\n",
       "      <th>selftext</th>\n",
       "    </tr>\n",
       "  </thead>\n",
       "  <tbody>\n",
       "  </tbody>\n",
       "</table>\n",
       "</div>"
      ],
      "text/plain": [
       "Empty DataFrame\n",
       "Columns: [subreddit, title, selftext]\n",
       "Index: []"
      ]
     },
     "execution_count": 9,
     "metadata": {},
     "output_type": "execute_result"
    }
   ],
   "source": [
    "# Checking to see if titles are removed in removed posts\n",
    "reddit.loc[reddit['title'] == '[removed]',:]"
   ]
  },
  {
   "cell_type": "code",
   "execution_count": 10,
   "id": "58505966",
   "metadata": {},
   "outputs": [
    {
     "data": {
      "text/html": [
       "<div>\n",
       "<style scoped>\n",
       "    .dataframe tbody tr th:only-of-type {\n",
       "        vertical-align: middle;\n",
       "    }\n",
       "\n",
       "    .dataframe tbody tr th {\n",
       "        vertical-align: top;\n",
       "    }\n",
       "\n",
       "    .dataframe thead th {\n",
       "        text-align: right;\n",
       "    }\n",
       "</style>\n",
       "<table border=\"1\" class=\"dataframe\">\n",
       "  <thead>\n",
       "    <tr style=\"text-align: right;\">\n",
       "      <th></th>\n",
       "      <th>title</th>\n",
       "      <th>selftext</th>\n",
       "    </tr>\n",
       "    <tr>\n",
       "      <th>subreddit</th>\n",
       "      <th></th>\n",
       "      <th></th>\n",
       "    </tr>\n",
       "  </thead>\n",
       "  <tbody>\n",
       "    <tr>\n",
       "      <th>personalfinance</th>\n",
       "      <td>11</td>\n",
       "      <td>0</td>\n",
       "    </tr>\n",
       "    <tr>\n",
       "      <th>wallstreetbets</th>\n",
       "      <td>2947</td>\n",
       "      <td>0</td>\n",
       "    </tr>\n",
       "  </tbody>\n",
       "</table>\n",
       "</div>"
      ],
      "text/plain": [
       "                 title  selftext\n",
       "subreddit                       \n",
       "personalfinance     11         0\n",
       "wallstreetbets    2947         0"
      ]
     },
     "execution_count": 10,
     "metadata": {},
     "output_type": "execute_result"
    }
   ],
   "source": [
    "reddit[reddit['selftext'].isna()].groupby('subreddit').count()"
   ]
  },
  {
   "cell_type": "code",
   "execution_count": 11,
   "id": "de8d027f",
   "metadata": {},
   "outputs": [],
   "source": [
    "for col in reddit.columns:\n",
    "    reddit[col] = reddit[col].replace('[removed]', np.nan)"
   ]
  },
  {
   "cell_type": "code",
   "execution_count": 12,
   "id": "59e3e2d9",
   "metadata": {},
   "outputs": [
    {
     "data": {
      "text/html": [
       "<div>\n",
       "<style scoped>\n",
       "    .dataframe tbody tr th:only-of-type {\n",
       "        vertical-align: middle;\n",
       "    }\n",
       "\n",
       "    .dataframe tbody tr th {\n",
       "        vertical-align: top;\n",
       "    }\n",
       "\n",
       "    .dataframe thead th {\n",
       "        text-align: right;\n",
       "    }\n",
       "</style>\n",
       "<table border=\"1\" class=\"dataframe\">\n",
       "  <thead>\n",
       "    <tr style=\"text-align: right;\">\n",
       "      <th></th>\n",
       "      <th>title</th>\n",
       "      <th>selftext</th>\n",
       "    </tr>\n",
       "    <tr>\n",
       "      <th>subreddit</th>\n",
       "      <th></th>\n",
       "      <th></th>\n",
       "    </tr>\n",
       "  </thead>\n",
       "  <tbody>\n",
       "    <tr>\n",
       "      <th>personalfinance</th>\n",
       "      <td>556</td>\n",
       "      <td>0</td>\n",
       "    </tr>\n",
       "    <tr>\n",
       "      <th>wallstreetbets</th>\n",
       "      <td>4225</td>\n",
       "      <td>0</td>\n",
       "    </tr>\n",
       "  </tbody>\n",
       "</table>\n",
       "</div>"
      ],
      "text/plain": [
       "                 title  selftext\n",
       "subreddit                       \n",
       "personalfinance    556         0\n",
       "wallstreetbets    4225         0"
      ]
     },
     "execution_count": 12,
     "metadata": {},
     "output_type": "execute_result"
    }
   ],
   "source": [
    "reddit.loc[(reddit['title'].isna()) |\n",
    "           (reddit['selftext'].isna()),\n",
    ":].groupby('subreddit').agg('count') "
   ]
  },
  {
   "cell_type": "code",
   "execution_count": 13,
   "id": "6694942a",
   "metadata": {},
   "outputs": [],
   "source": [
    "reddit.dropna(inplace = True)"
   ]
  },
  {
   "cell_type": "code",
   "execution_count": 14,
   "id": "a05f4c23",
   "metadata": {},
   "outputs": [],
   "source": [
    "reddit = pd.concat(\n",
    "    objs = [\n",
    "        # Randomly sample 1500 posts from personal finance to even out the classes\n",
    "        reddit[reddit['subreddit'] == 'personalfinance'].sample(1500, replace = False, random_state = 42),\n",
    "        reddit[reddit['subreddit'] == 'wallstreetbets']\n",
    "    ],\n",
    "    axis = 0\n",
    ").reset_index(drop = True)"
   ]
  },
  {
   "cell_type": "code",
   "execution_count": 15,
   "id": "0bae8319",
   "metadata": {},
   "outputs": [
    {
     "data": {
      "text/html": [
       "<div>\n",
       "<style scoped>\n",
       "    .dataframe tbody tr th:only-of-type {\n",
       "        vertical-align: middle;\n",
       "    }\n",
       "\n",
       "    .dataframe tbody tr th {\n",
       "        vertical-align: top;\n",
       "    }\n",
       "\n",
       "    .dataframe thead th {\n",
       "        text-align: right;\n",
       "    }\n",
       "</style>\n",
       "<table border=\"1\" class=\"dataframe\">\n",
       "  <thead>\n",
       "    <tr style=\"text-align: right;\">\n",
       "      <th></th>\n",
       "      <th>title</th>\n",
       "      <th>selftext</th>\n",
       "    </tr>\n",
       "    <tr>\n",
       "      <th>subreddit</th>\n",
       "      <th></th>\n",
       "      <th></th>\n",
       "    </tr>\n",
       "  </thead>\n",
       "  <tbody>\n",
       "    <tr>\n",
       "      <th>personalfinance</th>\n",
       "      <td>1500</td>\n",
       "      <td>1500</td>\n",
       "    </tr>\n",
       "    <tr>\n",
       "      <th>wallstreetbets</th>\n",
       "      <td>1338</td>\n",
       "      <td>1338</td>\n",
       "    </tr>\n",
       "  </tbody>\n",
       "</table>\n",
       "</div>"
      ],
      "text/plain": [
       "                 title  selftext\n",
       "subreddit                       \n",
       "personalfinance   1500      1500\n",
       "wallstreetbets    1338      1338"
      ]
     },
     "execution_count": 15,
     "metadata": {},
     "output_type": "execute_result"
    }
   ],
   "source": [
    "reddit.groupby('subreddit').agg('count')"
   ]
  },
  {
   "cell_type": "markdown",
   "id": "58de802b",
   "metadata": {},
   "source": [
    "### Removed Posts\n",
    "\n",
    "When posts are removed from Reddit, the selftext describing the posts is removed as well but it looks like often, the titles are left intact. However, as I have scraped enough posts to be able to still have enough data in my dataset with the removed posts dropped, I will the \\[removed\\] from the dataset and drop all the rows, alongside any empty rows."
   ]
  },
  {
   "cell_type": "code",
   "execution_count": 16,
   "id": "4513ff83",
   "metadata": {},
   "outputs": [
    {
     "name": "stdout",
     "output_type": "stream",
     "text": [
      "The number of posts with duplicated titles are: \n",
      "False    2821\n",
      "True       17\n",
      "dtype: int64 \n",
      "-------- \n",
      "\n",
      "The number of posts with duplicated selftexts are: \n",
      "False    2805\n",
      "True       33\n",
      "dtype: int64\n"
     ]
    }
   ],
   "source": [
    "print(\"The number of posts with duplicated titles are:\",\n",
    "      f\"\\n{reddit.duplicated(subset = 'title').value_counts()}\",\n",
    "      \"\\n--------\",\n",
    "      f\"\\n\\nThe number of posts with duplicated selftexts are:\",\n",
    "      f\"\\n{reddit.duplicated(subset = 'selftext').value_counts()}\")"
   ]
  },
  {
   "cell_type": "code",
   "execution_count": 17,
   "id": "d62ad19f",
   "metadata": {},
   "outputs": [],
   "source": [
    "reddit.drop_duplicates(subset = 'title', keep='first', inplace=True)         # Drop Duplicate Titles\n",
    "reddit.drop_duplicates(subset = 'selftext', keep='first', inplace=True)      # Drop Duplicate Selftext"
   ]
  },
  {
   "cell_type": "code",
   "execution_count": 18,
   "id": "4021db2a",
   "metadata": {},
   "outputs": [
    {
     "data": {
      "text/html": [
       "<div>\n",
       "<style scoped>\n",
       "    .dataframe tbody tr th:only-of-type {\n",
       "        vertical-align: middle;\n",
       "    }\n",
       "\n",
       "    .dataframe tbody tr th {\n",
       "        vertical-align: top;\n",
       "    }\n",
       "\n",
       "    .dataframe thead th {\n",
       "        text-align: right;\n",
       "    }\n",
       "</style>\n",
       "<table border=\"1\" class=\"dataframe\">\n",
       "  <thead>\n",
       "    <tr style=\"text-align: right;\">\n",
       "      <th></th>\n",
       "      <th>subreddit</th>\n",
       "      <th>title</th>\n",
       "      <th>selftext</th>\n",
       "    </tr>\n",
       "  </thead>\n",
       "  <tbody>\n",
       "    <tr>\n",
       "      <th>1500</th>\n",
       "      <td>wallstreetbets</td>\n",
       "      <td>the market won’t crash</td>\n",
       "      <td>market prices are based on demand and offer. \\...</td>\n",
       "    </tr>\n",
       "    <tr>\n",
       "      <th>1501</th>\n",
       "      <td>wallstreetbets</td>\n",
       "      <td>$yang gang update - we’re fuk (maybe) - part 3</td>\n",
       "      <td>yeahh.... sooo xinnie the pooh just [took over...</td>\n",
       "    </tr>\n",
       "    <tr>\n",
       "      <th>1502</th>\n",
       "      <td>wallstreetbets</td>\n",
       "      <td>stockjesus interesting trades</td>\n",
       "      <td>here are the trades that you need to be watchi...</td>\n",
       "    </tr>\n",
       "    <tr>\n",
       "      <th>1503</th>\n",
       "      <td>wallstreetbets</td>\n",
       "      <td>entain plc rejects bid from draftkings</td>\n",
       "      <td>2:03a et 9/22/2021 - dow jones\\n*entain plc re...</td>\n",
       "    </tr>\n",
       "    <tr>\n",
       "      <th>1504</th>\n",
       "      <td>wallstreetbets</td>\n",
       "      <td>[theorical case] what would happen in we boost...</td>\n",
       "      <td>as you know, the possible bankruptcy of evergr...</td>\n",
       "    </tr>\n",
       "    <tr>\n",
       "      <th>...</th>\n",
       "      <td>...</td>\n",
       "      <td>...</td>\n",
       "      <td>...</td>\n",
       "    </tr>\n",
       "    <tr>\n",
       "      <th>2833</th>\n",
       "      <td>wallstreetbets</td>\n",
       "      <td>i made a mistake about $irnt.</td>\n",
       "      <td>i posted before why i thought $irnt was going ...</td>\n",
       "    </tr>\n",
       "    <tr>\n",
       "      <th>2834</th>\n",
       "      <td>wallstreetbets</td>\n",
       "      <td>irnt short squeeze!</td>\n",
       "      <td>sorry i am late to report, but at least i'm re...</td>\n",
       "    </tr>\n",
       "    <tr>\n",
       "      <th>2835</th>\n",
       "      <td>wallstreetbets</td>\n",
       "      <td>spy options - suggestions 3</td>\n",
       "      <td>this is my third post. past two times when spy...</td>\n",
       "    </tr>\n",
       "    <tr>\n",
       "      <th>2836</th>\n",
       "      <td>wallstreetbets</td>\n",
       "      <td>indp is just getting started</td>\n",
       "      <td>indp had a great run today and made good money...</td>\n",
       "    </tr>\n",
       "    <tr>\n",
       "      <th>2837</th>\n",
       "      <td>wallstreetbets</td>\n",
       "      <td>kenny and the magic beanstalk</td>\n",
       "      <td>[kenny and the magic beanstalk](https://youtu....</td>\n",
       "    </tr>\n",
       "  </tbody>\n",
       "</table>\n",
       "<p>1294 rows × 3 columns</p>\n",
       "</div>"
      ],
      "text/plain": [
       "           subreddit                                              title  \\\n",
       "1500  wallstreetbets                             the market won’t crash   \n",
       "1501  wallstreetbets     $yang gang update - we’re fuk (maybe) - part 3   \n",
       "1502  wallstreetbets                      stockjesus interesting trades   \n",
       "1503  wallstreetbets             entain plc rejects bid from draftkings   \n",
       "1504  wallstreetbets  [theorical case] what would happen in we boost...   \n",
       "...              ...                                                ...   \n",
       "2833  wallstreetbets                      i made a mistake about $irnt.   \n",
       "2834  wallstreetbets                                irnt short squeeze!   \n",
       "2835  wallstreetbets                        spy options - suggestions 3   \n",
       "2836  wallstreetbets                       indp is just getting started   \n",
       "2837  wallstreetbets                      kenny and the magic beanstalk   \n",
       "\n",
       "                                               selftext  \n",
       "1500  market prices are based on demand and offer. \\...  \n",
       "1501  yeahh.... sooo xinnie the pooh just [took over...  \n",
       "1502  here are the trades that you need to be watchi...  \n",
       "1503  2:03a et 9/22/2021 - dow jones\\n*entain plc re...  \n",
       "1504  as you know, the possible bankruptcy of evergr...  \n",
       "...                                                 ...  \n",
       "2833  i posted before why i thought $irnt was going ...  \n",
       "2834  sorry i am late to report, but at least i'm re...  \n",
       "2835  this is my third post. past two times when spy...  \n",
       "2836  indp had a great run today and made good money...  \n",
       "2837  [kenny and the magic beanstalk](https://youtu....  \n",
       "\n",
       "[1294 rows x 3 columns]"
      ]
     },
     "execution_count": 18,
     "metadata": {},
     "output_type": "execute_result"
    }
   ],
   "source": [
    "reddit.loc[\n",
    "    (reddit['subreddit'] == 'wallstreetbets') &\n",
    "    (reddit['selftext'].notna())\n",
    "    , :]"
   ]
  },
  {
   "cell_type": "code",
   "execution_count": 19,
   "id": "7abfefdc",
   "metadata": {},
   "outputs": [],
   "source": [
    "reddit['is_wallstreetbets'] = reddit['subreddit'].map(lambda x: 1 if x == 'wallstreetbets' else 0)"
   ]
  },
  {
   "cell_type": "markdown",
   "id": "820e68b5",
   "metadata": {},
   "source": [
    "### Binarising the Dependent Variable\n",
    "\n",
    "A new column 'is_personalfinance' was created to binarise the dependent variable for modelling:\n",
    "\n",
    "1 - if the row is from wallstreetbets\n",
    "\n",
    "0 - if the row is from personalfinance"
   ]
  },
  {
   "cell_type": "code",
   "execution_count": 20,
   "id": "fdbe3e0a",
   "metadata": {},
   "outputs": [],
   "source": [
    "reddit['word_sum'] = reddit['title'] + ' ' + reddit['selftext']"
   ]
  },
  {
   "cell_type": "code",
   "execution_count": 21,
   "id": "1100610d",
   "metadata": {},
   "outputs": [
    {
     "name": "stdout",
     "output_type": "stream",
     "text": [
      "<class 'pandas.core.frame.DataFrame'>\n",
      "Int64Index: 2789 entries, 0 to 2837\n",
      "Data columns (total 5 columns):\n",
      " #   Column             Non-Null Count  Dtype \n",
      "---  ------             --------------  ----- \n",
      " 0   subreddit          2789 non-null   object\n",
      " 1   title              2789 non-null   object\n",
      " 2   selftext           2789 non-null   object\n",
      " 3   is_wallstreetbets  2789 non-null   int64 \n",
      " 4   word_sum           2789 non-null   object\n",
      "dtypes: int64(1), object(4)\n",
      "memory usage: 130.7+ KB\n"
     ]
    }
   ],
   "source": [
    "reddit.info()"
   ]
  },
  {
   "cell_type": "markdown",
   "id": "879a1d97",
   "metadata": {},
   "source": [
    "### Collating Data\n",
    "\n",
    "The title and selftext columns were collated to gather all the data into a new column."
   ]
  },
  {
   "cell_type": "code",
   "execution_count": 22,
   "id": "c0e84a32",
   "metadata": {},
   "outputs": [],
   "source": [
    "# New DataFrame for Vectorisation and Naive Bayes Modelling\n",
    "reddit_clean = reddit[['is_wallstreetbets', 'word_sum', 'title', 'selftext']]"
   ]
  },
  {
   "cell_type": "code",
   "execution_count": 23,
   "id": "04835994",
   "metadata": {},
   "outputs": [
    {
     "name": "stderr",
     "output_type": "stream",
     "text": [
      "<ipython-input-23-7321203df164>:1: SettingWithCopyWarning: \n",
      "A value is trying to be set on a copy of a slice from a DataFrame.\n",
      "Try using .loc[row_indexer,col_indexer] = value instead\n",
      "\n",
      "See the caveats in the documentation: https://pandas.pydata.org/pandas-docs/stable/user_guide/indexing.html#returning-a-view-versus-a-copy\n",
      "  reddit_clean['word_sum'] = reddit_clean['word_sum'].map(\n"
     ]
    }
   ],
   "source": [
    "reddit_clean['word_sum'] = reddit_clean['word_sum'].map(\n",
    "    lambda x: x.replace(\n",
    "        '\\n', ' '\n",
    "    ).replace(\n",
    "        '&amp;', ' '\n",
    "    ).replace(\n",
    "        '#x',''\n",
    "    )\n",
    ")"
   ]
  },
  {
   "cell_type": "code",
   "execution_count": 24,
   "id": "d70c3fa8",
   "metadata": {},
   "outputs": [
    {
     "data": {
      "text/plain": [
       "0    0.536034\n",
       "1    0.463966\n",
       "Name: is_wallstreetbets, dtype: float64"
      ]
     },
     "execution_count": 24,
     "metadata": {},
     "output_type": "execute_result"
    }
   ],
   "source": [
    "# Checking base probabilities\n",
    "reddit_clean['is_wallstreetbets'].value_counts(normalize = True)"
   ]
  },
  {
   "cell_type": "markdown",
   "id": "6cd74c1d",
   "metadata": {},
   "source": [
    "### Tokenizing Data"
   ]
  },
  {
   "cell_type": "code",
   "execution_count": 25,
   "id": "5f57fca9",
   "metadata": {},
   "outputs": [],
   "source": [
    "# Tokenizer user with a regexp to pull either a group of chars or a sum of money beginnig with \n",
    "# a $, digits, and then possibly a letter, for example - $40k\n",
    "tokenizer = RegexpTokenizer('[a-zA-Z]+')                  # group of chars"
   ]
  },
  {
   "cell_type": "code",
   "execution_count": 26,
   "id": "83516ae5",
   "metadata": {},
   "outputs": [],
   "source": [
    "# Columns for tokenized words\n",
    "reddit_clean['words_clean'] = reddit_clean['word_sum'].apply(tokenize_str)\n",
    "\n",
    "# Column for lemmatized words\n",
    "reddit_clean['words_lem'] = reddit_clean['word_sum'].apply(lambda x: tokenize_str(x, lemm = True))\n",
    "\n",
    "# Column for stemmed words\n",
    "reddit_clean['words_stem'] = reddit_clean['word_sum'].apply(lambda x: tokenize_str(x, stem = True))"
   ]
  },
  {
   "cell_type": "markdown",
   "id": "d1460a96",
   "metadata": {},
   "source": [
    "### Most Common and Least Common Words"
   ]
  },
  {
   "cell_type": "code",
   "execution_count": 27,
   "id": "77adbf48",
   "metadata": {},
   "outputs": [],
   "source": [
    "wallstreetbets = reddit_clean.loc[(reddit_clean['is_wallstreetbets'] == 1),\n",
    "                                                         ['words_clean']]\n",
    "\n",
    "personalfinance = reddit_clean.loc[(reddit_clean['is_wallstreetbets'] == 0),\n",
    "                                                         ['words_clean']]"
   ]
  },
  {
   "cell_type": "code",
   "execution_count": 28,
   "id": "4528bff1",
   "metadata": {},
   "outputs": [],
   "source": [
    "cvec_init = CountVectorizer()"
   ]
  },
  {
   "cell_type": "code",
   "execution_count": 29,
   "id": "0076cb73",
   "metadata": {},
   "outputs": [
    {
     "name": "stdout",
     "output_type": "stream",
     "text": [
      "The top 25 most common terms are: \n",
      "[('to', 8128), ('the', 7701), ('and', 6149), ('my', 5121), ('in', 3844), ('for', 3539), ('of', 3472), ('is', 3115), ('it', 3032), ('have', 2702), ('that', 2649), ('this', 1994), ('on', 1981), ('with', 1870), ('but', 1757), ('be', 1678), ('or', 1345), ('me', 1293), ('so', 1252), ('not', 1249), ('we', 1242), ('if', 1240), ('at', 1213), ('would', 1201), ('as', 1197)] \n",
      "---------------\n",
      "\n",
      " The top 25 least common terms are: \n",
      "[('shooting', 1), ('presumptuous', 1), ('phoenix', 1), ('flaw', 1), ('dfw', 1), ('surrounding', 1), ('negativity', 1), ('twenties', 1), ('deactivate', 1), ('turbulence', 1), ('purposefully', 1), ('debacle', 1), ('yours', 1), ('sloppy', 1), ('boarding', 1), ('recruiting', 1), ('rehire', 1), ('restricting', 1), ('alarms', 1), ('indifference', 1), ('reflects', 1), ('duty', 1), ('ceasing', 1), ('continent', 1)] \n",
      "---------------\n",
      "\n"
     ]
    },
    {
     "data": {
      "image/png": "[encoded data removed]",
      "text/plain": [
       "<Figure size 1008x360 with 2 Axes>"
      ]
     },
     "metadata": {
      "needs_background": "light"
     },
     "output_type": "display_data"
    }
   ],
   "source": [
    "titles =['Most Common 15 Words', 'Least Common 15 Words']\n",
    "\n",
    "words_of_interest(\n",
    "    cvec_init, \n",
    "    personalfinance['words_clean'],\n",
    "    'Most & Least Common 15 Words for r/personalfinance', \n",
    "    titles, \n",
    "    (14,5)\n",
    ");"
   ]
  },
  {
   "cell_type": "code",
   "execution_count": 30,
   "id": "d38e18ec",
   "metadata": {},
   "outputs": [
    {
     "name": "stdout",
     "output_type": "stream",
     "text": [
      "The top 25 most common terms are: \n",
      "[('the', 11265), ('to', 7021), ('and', 6007), ('of', 5095), ('is', 4371), ('in', 3777), ('this', 2853), ('for', 2734), ('it', 2710), ('that', 2520), ('on', 2373), ('you', 1905), ('with', 1710), ('are', 1696), ('at', 1577), ('be', 1448), ('as', 1444), ('have', 1362), ('they', 1256), ('will', 1195), ('but', 1147), ('if', 1103), ('not', 1080), ('we', 1073), ('from', 1042)] \n",
      "---------------\n",
      "\n",
      " The top 25 least common terms are: \n",
      "[('lighten', 1), ('fantasy', 1), ('combine', 1), ('incorporate', 1), ('nod', 1), ('hearted', 1), ('disrespectful', 1), ('passions', 1), ('cures', 1), ('bloomers', 1), ('misunderstood', 1), ('liquor', 1), ('nightclubs', 1), ('unaudited', 1), ('twelve', 1), ('forgiven', 1), ('lounges', 1), ('coronavirus', 1), ('pest', 1), ('cable', 1), ('modified', 1), ('deferral', 1), ('salaried', 1), ('enacted', 1)] \n",
      "---------------\n",
      "\n"
     ]
    },
    {
     "data": {
      "image/png": "[encoded data removed]",
      "text/plain": [
       "<Figure size 1008x360 with 2 Axes>"
      ]
     },
     "metadata": {
      "needs_background": "light"
     },
     "output_type": "display_data"
    }
   ],
   "source": [
    "cvec_init = CountVectorizer()\n",
    "\n",
    "titles =['Most Common 15 Words', 'Least Common 15 Words']\n",
    "\n",
    "words_of_interest(\n",
    "    cvec_init, \n",
    "    wallstreetbets['words_clean'],\n",
    "    'Most & Least Common 15 Words for r/wallstreetbets', \n",
    "    titles, \n",
    "    (14,5)\n",
    ");"
   ]
  },
  {
   "cell_type": "code",
   "execution_count": 31,
   "id": "4ac4ceb4",
   "metadata": {},
   "outputs": [
    {
     "name": "stderr",
     "output_type": "stream",
     "text": [
      "C:\\Users\\Ming\\anaconda3\\lib\\site-packages\\sklearn\\feature_extraction\\text.py:388: UserWarning: Your stop_words may be inconsistent with your preprocessing. Tokenizing the stop words generated tokens ['entertainment', 'game', 'stop', 'street', 'wall'] not in stop_words.\n",
      "  warnings.warn('Your stop_words may be inconsistent with '\n"
     ]
    },
    {
     "name": "stdout",
     "output_type": "stream",
     "text": [
      "The top 25 most common terms are: \n",
      "[('just', 991), ('credit', 917), ('pay', 911), ('money', 861), ('year', 811), ('car', 795), ('account', 783), ('like', 726), ('years', 675), ('time', 668), ('don', 658), ('loan', 613), ('new', 608), ('house', 575), ('want', 561), ('month', 556), ('ve', 551), ('know', 548), ('job', 519), ('card', 492), ('need', 486), ('debt', 486), ('home', 471), ('make', 466), ('tax', 438)] \n",
      "---------------\n",
      "\n",
      " The top 25 least common terms are: \n",
      "[('stigma', 2), ('itunes', 2), ('conditionally', 2), ('fskax', 2), ('morale', 2), ('parnassus', 2), ('intl', 2), ('vviax', 2), ('voe', 2), ('gtsvx', 2), ('fspsx', 2), ('jibcx', 2), ('goods', 2), ('logging', 2), ('rejections', 2), ('venture', 2), ('memo', 2), ('rav', 2), ('cherokee', 2), ('ascensus', 2), ('france', 2), ('sdc', 2), ('smile', 2), ('argued', 2)] \n",
      "---------------\n",
      "\n"
     ]
    },
    {
     "data": {
      "image/png": "[encoded data removed]",
      "text/plain": [
       "<Figure size 1008x360 with 2 Axes>"
      ]
     },
     "metadata": {
      "needs_background": "light"
     },
     "output_type": "display_data"
    }
   ],
   "source": [
    "cvec_init_stop_words = CountVectorizer(\n",
    "    max_features = 5000,     # Cutting off the features to speed up the process and remove unique words\n",
    "    stop_words = english_stop_words   # Changing countvectorizer parameters to include english stop words\n",
    ")\n",
    "\n",
    "titles =['Most Common 15 Words', 'Least Common 15 Words']\n",
    "\n",
    "words_of_interest(\n",
    "    cvec_init_stop_words, \n",
    "    personalfinance['words_clean'],\n",
    "    'Most & Least Common 15 Words for r/personalfinance After Removing Stop Words', \n",
    "    titles, \n",
    "    (14,5)\n",
    ");"
   ]
  },
  {
   "cell_type": "code",
   "execution_count": 32,
   "id": "6855145d",
   "metadata": {},
   "outputs": [
    {
     "name": "stdout",
     "output_type": "stream",
     "text": [
      "The top 25 most common terms are: \n",
      "[('shares', 961), ('market', 928), ('stock', 924), ('price', 793), ('like', 702), ('company', 697), ('short', 667), ('just', 653), ('buy', 548), ('money', 481), ('time', 479), ('float', 479), ('going', 436), ('squeeze', 417), ('know', 410), ('million', 392), ('year', 380), ('think', 366), ('high', 366), ('options', 360), ('week', 360), ('don', 355), ('today', 343), ('share', 343), ('good', 327)] \n",
      "---------------\n",
      "\n",
      " The top 25 least common terms are: \n",
      "[('wingspan', 3), ('amidst', 3), ('tost', 3), ('chef', 3), ('tattooed', 3), ('intriguing', 3), ('vmware', 3), ('tigr', 3), ('affiliates', 3), ('workout', 3), ('jun', 3), ('algo', 3), ('keith', 3), ('angle', 3), ('kenny', 3), ('longest', 3), ('identified', 3), ('manifesting', 3), ('vivid', 3), ('loophole', 3), ('idiot', 3), ('ammo', 3), ('theo', 3), ('alsn', 3)] \n",
      "---------------\n",
      "\n"
     ]
    },
    {
     "data": {
      "image/png": "[encoded data removed]",
      "text/plain": [
       "<Figure size 1008x360 with 2 Axes>"
      ]
     },
     "metadata": {
      "needs_background": "light"
     },
     "output_type": "display_data"
    }
   ],
   "source": [
    "words_of_interest(\n",
    "    cvec_init_stop_words, \n",
    "    wallstreetbets['words_clean'],\n",
    "    'Most & Least Common 15 Words for r/wallstreetbets After Removing Stop Words', \n",
    "    titles, \n",
    "    (14,5)\n",
    ");"
   ]
  },
  {
   "cell_type": "markdown",
   "id": "474221ac",
   "metadata": {},
   "source": [
    "#### English Stop Words\n",
    "\n",
    "In an examination of the the most common words within each set, removing English stop words, names of the subreddits, and some commonly used slang, we can see that we develop a large differentiation between the top 15 most common words for both subreddits."
   ]
  },
  {
   "cell_type": "markdown",
   "id": "149f811d",
   "metadata": {},
   "source": [
    "### Post Length"
   ]
  },
  {
   "cell_type": "code",
   "execution_count": 33,
   "id": "9c2486f5",
   "metadata": {},
   "outputs": [
    {
     "data": {
      "text/html": [
       "<div>\n",
       "<style scoped>\n",
       "    .dataframe tbody tr th:only-of-type {\n",
       "        vertical-align: middle;\n",
       "    }\n",
       "\n",
       "    .dataframe tbody tr th {\n",
       "        vertical-align: top;\n",
       "    }\n",
       "\n",
       "    .dataframe thead th {\n",
       "        text-align: right;\n",
       "    }\n",
       "</style>\n",
       "<table border=\"1\" class=\"dataframe\">\n",
       "  <thead>\n",
       "    <tr style=\"text-align: right;\">\n",
       "      <th></th>\n",
       "      <th>count</th>\n",
       "      <th>mean</th>\n",
       "      <th>std</th>\n",
       "      <th>min</th>\n",
       "      <th>25%</th>\n",
       "      <th>50%</th>\n",
       "      <th>75%</th>\n",
       "      <th>max</th>\n",
       "    </tr>\n",
       "    <tr>\n",
       "      <th>is_wallstreetbets</th>\n",
       "      <th></th>\n",
       "      <th></th>\n",
       "      <th></th>\n",
       "      <th></th>\n",
       "      <th></th>\n",
       "      <th></th>\n",
       "      <th></th>\n",
       "      <th></th>\n",
       "    </tr>\n",
       "  </thead>\n",
       "  <tbody>\n",
       "    <tr>\n",
       "      <th>0</th>\n",
       "      <td>1495.0</td>\n",
       "      <td>169.302341</td>\n",
       "      <td>142.173375</td>\n",
       "      <td>5.0</td>\n",
       "      <td>82.0</td>\n",
       "      <td>131.0</td>\n",
       "      <td>216.0</td>\n",
       "      <td>2035.0</td>\n",
       "    </tr>\n",
       "    <tr>\n",
       "      <th>1</th>\n",
       "      <td>1294.0</td>\n",
       "      <td>201.940495</td>\n",
       "      <td>378.181099</td>\n",
       "      <td>2.0</td>\n",
       "      <td>44.0</td>\n",
       "      <td>84.0</td>\n",
       "      <td>191.0</td>\n",
       "      <td>5626.0</td>\n",
       "    </tr>\n",
       "  </tbody>\n",
       "</table>\n",
       "</div>"
      ],
      "text/plain": [
       "                    count        mean         std  min   25%    50%    75%  \\\n",
       "is_wallstreetbets                                                            \n",
       "0                  1495.0  169.302341  142.173375  5.0  82.0  131.0  216.0   \n",
       "1                  1294.0  201.940495  378.181099  2.0  44.0   84.0  191.0   \n",
       "\n",
       "                      max  \n",
       "is_wallstreetbets          \n",
       "0                  2035.0  \n",
       "1                  5626.0  "
      ]
     },
     "execution_count": 33,
     "metadata": {},
     "output_type": "execute_result"
    }
   ],
   "source": [
    "reddit_clean['word_count'] = reddit_clean['words_clean'].map(lambda x: len(x.split(' ')))\n",
    "reddit_clean.groupby('is_wallstreetbets')['word_count'].describe()"
   ]
  },
  {
   "cell_type": "code",
   "execution_count": 34,
   "id": "1ecea9b9",
   "metadata": {},
   "outputs": [
    {
     "data": {
      "text/html": [
       "<div>\n",
       "<style scoped>\n",
       "    .dataframe tbody tr th:only-of-type {\n",
       "        vertical-align: middle;\n",
       "    }\n",
       "\n",
       "    .dataframe tbody tr th {\n",
       "        vertical-align: top;\n",
       "    }\n",
       "\n",
       "    .dataframe thead th {\n",
       "        text-align: right;\n",
       "    }\n",
       "</style>\n",
       "<table border=\"1\" class=\"dataframe\">\n",
       "  <thead>\n",
       "    <tr style=\"text-align: right;\">\n",
       "      <th></th>\n",
       "      <th>is_wallstreetbets</th>\n",
       "      <th>word_sum</th>\n",
       "    </tr>\n",
       "  </thead>\n",
       "  <tbody>\n",
       "    <tr>\n",
       "      <th>1237</th>\n",
       "      <td>0</td>\n",
       "      <td>capital gains taxes - how to minimize them (an...</td>\n",
       "    </tr>\n",
       "    <tr>\n",
       "      <th>1671</th>\n",
       "      <td>1</td>\n",
       "      <td>the rise of canoo ($goev) – why jpow’s printer...</td>\n",
       "    </tr>\n",
       "    <tr>\n",
       "      <th>1894</th>\n",
       "      <td>1</td>\n",
       "      <td>lidr: juicy despac set up with low float, high...</td>\n",
       "    </tr>\n",
       "    <tr>\n",
       "      <th>1934</th>\n",
       "      <td>1</td>\n",
       "      <td>vlta - repost  • market cap is $2b no ban pls ...</td>\n",
       "    </tr>\n",
       "    <tr>\n",
       "      <th>1971</th>\n",
       "      <td>1</td>\n",
       "      <td>$clov the \"dude diligence\" dd report 9/19 edit...</td>\n",
       "    </tr>\n",
       "    <tr>\n",
       "      <th>2005</th>\n",
       "      <td>1</td>\n",
       "      <td>tmc- set for explosive week! $tmc - why this c...</td>\n",
       "    </tr>\n",
       "    <tr>\n",
       "      <th>2127</th>\n",
       "      <td>1</td>\n",
       "      <td>$tmc - why this company is more than it seems ...</td>\n",
       "    </tr>\n",
       "    <tr>\n",
       "      <th>2207</th>\n",
       "      <td>1</td>\n",
       "      <td>wall street week ahead for the trading week be...</td>\n",
       "    </tr>\n",
       "    <tr>\n",
       "      <th>2354</th>\n",
       "      <td>1</td>\n",
       "      <td>vlta - bla bla de-spac blabla gamma ramp bla b...</td>\n",
       "    </tr>\n",
       "    <tr>\n",
       "      <th>2371</th>\n",
       "      <td>1</td>\n",
       "      <td>gme is about to fuk u with its negative beta. ...</td>\n",
       "    </tr>\n",
       "    <tr>\n",
       "      <th>2706</th>\n",
       "      <td>1</td>\n",
       "      <td>despac gamma squeeze redemption plays: an expl...</td>\n",
       "    </tr>\n",
       "    <tr>\n",
       "      <th>2709</th>\n",
       "      <td>1</td>\n",
       "      <td>despac gamma squeeze redemption plays: an expl...</td>\n",
       "    </tr>\n",
       "    <tr>\n",
       "      <th>2786</th>\n",
       "      <td>1</td>\n",
       "      <td>$beke, $yang, $noah - big profits off the coll...</td>\n",
       "    </tr>\n",
       "  </tbody>\n",
       "</table>\n",
       "</div>"
      ],
      "text/plain": [
       "      is_wallstreetbets                                           word_sum\n",
       "1237                  0  capital gains taxes - how to minimize them (an...\n",
       "1671                  1  the rise of canoo ($goev) – why jpow’s printer...\n",
       "1894                  1  lidr: juicy despac set up with low float, high...\n",
       "1934                  1  vlta - repost  • market cap is $2b no ban pls ...\n",
       "1971                  1  $clov the \"dude diligence\" dd report 9/19 edit...\n",
       "2005                  1  tmc- set for explosive week! $tmc - why this c...\n",
       "2127                  1  $tmc - why this company is more than it seems ...\n",
       "2207                  1  wall street week ahead for the trading week be...\n",
       "2354                  1  vlta - bla bla de-spac blabla gamma ramp bla b...\n",
       "2371                  1  gme is about to fuk u with its negative beta. ...\n",
       "2706                  1  despac gamma squeeze redemption plays: an expl...\n",
       "2709                  1  despac gamma squeeze redemption plays: an expl...\n",
       "2786                  1  $beke, $yang, $noah - big profits off the coll..."
      ]
     },
     "execution_count": 34,
     "metadata": {},
     "output_type": "execute_result"
    }
   ],
   "source": [
    "reddit_clean.loc[(reddit_clean['word_count'] > 2000), ['is_wallstreetbets', 'word_sum']]"
   ]
  },
  {
   "cell_type": "markdown",
   "id": "5d9f8d85",
   "metadata": {},
   "source": [
    "With an upper quantile of 207 characters, we will look at the majority of posts in this range (0-250 words) to examine the distribution of post length.\n",
    "\n",
    "In checking outliers longer than or about as long as the longest personalfinance reddit post, we will also drop row 2709, which is a duplicate post that snuck through due to spelling errors."
   ]
  },
  {
   "cell_type": "code",
   "execution_count": 35,
   "id": "f78a3820",
   "metadata": {},
   "outputs": [],
   "source": [
    "reddit_clean.drop(2709, inplace = True)"
   ]
  },
  {
   "cell_type": "code",
   "execution_count": 36,
   "id": "aa27d5f6",
   "metadata": {},
   "outputs": [],
   "source": [
    "reddit_clean.reset_index(drop = True, inplace = True)"
   ]
  },
  {
   "cell_type": "code",
   "execution_count": 37,
   "id": "2395befa",
   "metadata": {},
   "outputs": [],
   "source": [
    "reddit_word_length = reddit_clean.loc[(reddit_clean['word_count'] < 250), ['is_wallstreetbets', 'word_count']]"
   ]
  },
  {
   "cell_type": "code",
   "execution_count": 38,
   "id": "34211a9e",
   "metadata": {},
   "outputs": [
    {
     "data": {
      "image/png": "[encoded data removed]",
      "text/plain": [
       "<Figure size 1440x720 with 1 Axes>"
      ]
     },
     "metadata": {
      "needs_background": "light"
     },
     "output_type": "display_data"
    }
   ],
   "source": [
    "plt.figure(figsize = (20,10))\n",
    "plt.title('Histogram of Post Word Counts', fontsize = 18)\n",
    "plt.xlabel('Number of words in a post')\n",
    "sns.histplot(\n",
    "    x = 'word_count',\n",
    "    hue = 'is_wallstreetbets',\n",
    "    data = reddit_word_length,\n",
    "    bins = 20\n",
    "    );"
   ]
  },
  {
   "cell_type": "markdown",
   "id": "4b86065c",
   "metadata": {},
   "source": [
    "#### Analysis of Post Length\n",
    "\n",
    "In general, r/personalfinance tends to see longer posts, however, we do see a number of extreme outliers for r/wallstreetbets for post length.\n",
    "\n",
    "As r/personalfinance is much more of an advisory subreddit, with people explaining their circumstances in the posts and asking for advice, we would tend to see longer posts. On the other hand, r/wallstreetbets can be filled with memes, the latest news, which will require little explanation, and pure speculation.\n",
    "\n",
    "However, from time to time, r/wallstreetbets does see lengthy breakdowns of current global financial situations, or detailed analysis of specific stocks, resulting in these extreme outliers with post lengths over 1000 words."
   ]
  },
  {
   "cell_type": "markdown",
   "id": "354e94fa",
   "metadata": {},
   "source": [
    "## Saving Data for Model Testing"
   ]
  },
  {
   "cell_type": "code",
   "execution_count": 39,
   "id": "4b2f9818",
   "metadata": {},
   "outputs": [],
   "source": [
    "reddit_clean.to_csv('datasets/reddit_clean.csv')"
   ]
  },
  {
   "cell_type": "code",
   "execution_count": 40,
   "id": "1ceabb4d",
   "metadata": {},
   "outputs": [
    {
     "name": "stdout",
     "output_type": "stream",
     "text": [
      "<class 'pandas.core.frame.DataFrame'>\n",
      "RangeIndex: 2788 entries, 0 to 2787\n",
      "Data columns (total 8 columns):\n",
      " #   Column             Non-Null Count  Dtype \n",
      "---  ------             --------------  ----- \n",
      " 0   is_wallstreetbets  2788 non-null   int64 \n",
      " 1   word_sum           2788 non-null   object\n",
      " 2   title              2788 non-null   object\n",
      " 3   selftext           2788 non-null   object\n",
      " 4   words_clean        2788 non-null   object\n",
      " 5   words_lem          2788 non-null   object\n",
      " 6   words_stem         2788 non-null   object\n",
      " 7   word_count         2788 non-null   int64 \n",
      "dtypes: int64(2), object(6)\n",
      "memory usage: 174.4+ KB\n"
     ]
    }
   ],
   "source": [
    "reddit_clean.info()"
   ]
  },
  {
   "cell_type": "code",
   "execution_count": null,
   "id": "f60b0889",
   "metadata": {},
   "outputs": [],
   "source": []
  }
 ],
 "metadata": {
  "kernelspec": {
   "display_name": "Python 3",
   "language": "python",
   "name": "python3"
  },
  "language_info": {
   "codemirror_mode": {
    "name": "ipython",
    "version": 3
   },
   "file_extension": ".py",
   "mimetype": "text/x-python",
   "name": "python",
   "nbconvert_exporter": "python",
   "pygments_lexer": "ipython3",
   "version": "3.8.8"
  },
  "toc": {
   "base_numbering": 1,
   "nav_menu": {},
   "number_sections": true,
   "sideBar": true,
   "skip_h1_title": false,
   "title_cell": "Table of Contents",
   "title_sidebar": "Contents",
   "toc_cell": false,
   "toc_position": {
    "height": "calc(100% - 180px)",
    "left": "10px",
    "top": "150px",
    "width": "384px"
   },
   "toc_section_display": true,
   "toc_window_display": true
  }
 },
 "nbformat": 4,
 "nbformat_minor": 5
}
